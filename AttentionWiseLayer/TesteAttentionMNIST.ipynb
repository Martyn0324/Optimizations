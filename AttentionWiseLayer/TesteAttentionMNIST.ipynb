{
  "cells": [
    {
      "cell_type": "code",
      "execution_count": null,
      "metadata": {
        "colab": {
          "base_uri": "https://localhost:8080/"
        },
        "id": "QS2Zw_3ksNiM",
        "outputId": "e76a1745-f602-4f1e-abcb-d185b450cb81"
      },
      "outputs": [
        {
          "output_type": "stream",
          "name": "stdout",
          "text": [
            "Requirement already satisfied: torchsummary in /usr/local/lib/python3.10/dist-packages (1.5.1)\n"
          ]
        }
      ],
      "source": [
        "!pip install torchsummary"
      ]
    },
    {
      "cell_type": "code",
      "execution_count": null,
      "metadata": {
        "id": "QtkL4u3pr3Ge"
      },
      "outputs": [],
      "source": [
        "import torch\n",
        "from torch import nn\n",
        "from torchvision.datasets import FashionMNIST\n",
        "from torchvision import transforms\n",
        "from torchsummary import summary\n",
        "import numpy as np\n",
        "import matplotlib.pyplot as plt"
      ]
    },
    {
      "cell_type": "code",
      "execution_count": null,
      "metadata": {
        "colab": {
          "base_uri": "https://localhost:8080/"
        },
        "id": "Ox9Q3KcCsJUU",
        "outputId": "c2a45024-6d28-4132-a1f2-8bcf8f5391d5"
      },
      "outputs": [
        {
          "output_type": "stream",
          "name": "stdout",
          "text": [
            "Thu May  9 12:46:55 2024       \n",
            "+---------------------------------------------------------------------------------------+\n",
            "| NVIDIA-SMI 535.104.05             Driver Version: 535.104.05   CUDA Version: 12.2     |\n",
            "|-----------------------------------------+----------------------+----------------------+\n",
            "| GPU  Name                 Persistence-M | Bus-Id        Disp.A | Volatile Uncorr. ECC |\n",
            "| Fan  Temp   Perf          Pwr:Usage/Cap |         Memory-Usage | GPU-Util  Compute M. |\n",
            "|                                         |                      |               MIG M. |\n",
            "|=========================================+======================+======================|\n",
            "|   0  Tesla T4                       Off | 00000000:00:04.0 Off |                    0 |\n",
            "| N/A   47C    P8               9W /  70W |      0MiB / 15360MiB |      0%      Default |\n",
            "|                                         |                      |                  N/A |\n",
            "+-----------------------------------------+----------------------+----------------------+\n",
            "                                                                                         \n",
            "+---------------------------------------------------------------------------------------+\n",
            "| Processes:                                                                            |\n",
            "|  GPU   GI   CI        PID   Type   Process name                            GPU Memory |\n",
            "|        ID   ID                                                             Usage      |\n",
            "|=======================================================================================|\n",
            "|  No running processes found                                                           |\n",
            "+---------------------------------------------------------------------------------------+\n"
          ]
        }
      ],
      "source": [
        "# Checking current GPU\n",
        "\n",
        "!nvidia-smi"
      ]
    },
    {
      "cell_type": "code",
      "execution_count": null,
      "metadata": {
        "id": "cY76LXqbr34b"
      },
      "outputs": [],
      "source": [
        "device = torch.device(\"cuda\" if torch.cuda.is_available() else \"cpu\")"
      ]
    },
    {
      "cell_type": "code",
      "execution_count": null,
      "metadata": {
        "id": "29LGOH11r36z",
        "colab": {
          "base_uri": "https://localhost:8080/"
        },
        "outputId": "c388295d-4d6a-46ec-a415-cea0f80054a6"
      },
      "outputs": [
        {
          "output_type": "stream",
          "name": "stdout",
          "text": [
            "Downloading http://fashion-mnist.s3-website.eu-central-1.amazonaws.com/train-images-idx3-ubyte.gz\n",
            "Downloading http://fashion-mnist.s3-website.eu-central-1.amazonaws.com/train-images-idx3-ubyte.gz to data/FashionMNIST/raw/train-images-idx3-ubyte.gz\n"
          ]
        },
        {
          "output_type": "stream",
          "name": "stderr",
          "text": [
            "100%|██████████| 26421880/26421880 [00:00<00:00, 37296385.06it/s]\n"
          ]
        },
        {
          "output_type": "stream",
          "name": "stdout",
          "text": [
            "Extracting data/FashionMNIST/raw/train-images-idx3-ubyte.gz to data/FashionMNIST/raw\n",
            "\n",
            "Downloading http://fashion-mnist.s3-website.eu-central-1.amazonaws.com/train-labels-idx1-ubyte.gz\n",
            "Downloading http://fashion-mnist.s3-website.eu-central-1.amazonaws.com/train-labels-idx1-ubyte.gz to data/FashionMNIST/raw/train-labels-idx1-ubyte.gz\n"
          ]
        },
        {
          "output_type": "stream",
          "name": "stderr",
          "text": [
            "100%|██████████| 29515/29515 [00:00<00:00, 5094439.61it/s]"
          ]
        },
        {
          "output_type": "stream",
          "name": "stdout",
          "text": [
            "Extracting data/FashionMNIST/raw/train-labels-idx1-ubyte.gz to data/FashionMNIST/raw\n",
            "\n",
            "Downloading http://fashion-mnist.s3-website.eu-central-1.amazonaws.com/t10k-images-idx3-ubyte.gz\n",
            "Downloading http://fashion-mnist.s3-website.eu-central-1.amazonaws.com/t10k-images-idx3-ubyte.gz to data/FashionMNIST/raw/t10k-images-idx3-ubyte.gz\n"
          ]
        },
        {
          "output_type": "stream",
          "name": "stderr",
          "text": [
            "\n",
            "100%|██████████| 4422102/4422102 [00:00<00:00, 16588000.12it/s]\n"
          ]
        },
        {
          "output_type": "stream",
          "name": "stdout",
          "text": [
            "Extracting data/FashionMNIST/raw/t10k-images-idx3-ubyte.gz to data/FashionMNIST/raw\n",
            "\n",
            "Downloading http://fashion-mnist.s3-website.eu-central-1.amazonaws.com/t10k-labels-idx1-ubyte.gz\n",
            "Downloading http://fashion-mnist.s3-website.eu-central-1.amazonaws.com/t10k-labels-idx1-ubyte.gz to data/FashionMNIST/raw/t10k-labels-idx1-ubyte.gz\n"
          ]
        },
        {
          "output_type": "stream",
          "name": "stderr",
          "text": [
            "100%|██████████| 5148/5148 [00:00<00:00, 7302088.94it/s]\n"
          ]
        },
        {
          "output_type": "stream",
          "name": "stdout",
          "text": [
            "Extracting data/FashionMNIST/raw/t10k-labels-idx1-ubyte.gz to data/FashionMNIST/raw\n",
            "\n"
          ]
        }
      ],
      "source": [
        "train_data = FashionMNIST('data', download=True, transform=transforms.Compose([transforms.ToTensor()]))\n",
        "test_data = FashionMNIST('data', download=True, train=False, transform=transforms.Compose([transforms.ToTensor()]))"
      ]
    },
    {
      "cell_type": "code",
      "execution_count": null,
      "metadata": {
        "id": "YvNpDpuiKu6n"
      },
      "outputs": [],
      "source": [
        "image, label = next(iter(train_data))\n",
        "\n",
        "image = image.unsqueeze(0)"
      ]
    },
    {
      "cell_type": "code",
      "execution_count": null,
      "metadata": {
        "colab": {
          "base_uri": "https://localhost:8080/"
        },
        "id": "aJz21q6aLMpu",
        "outputId": "2b693f59-daa9-4d20-ba13-f125642af516"
      },
      "outputs": [
        {
          "name": "stdout",
          "output_type": "stream",
          "text": [
            "torch.Size([1, 1, 28, 28])\n"
          ]
        }
      ],
      "source": [
        "print(image.size())"
      ]
    },
    {
      "cell_type": "code",
      "execution_count": null,
      "metadata": {
        "id": "8x7wIVmcKhvY"
      },
      "outputs": [],
      "source": [
        "inputX = torch.zeros((1, 1, 28, 28))\n",
        "inputX[:, :, :, 14] = torch.randn((28))\n",
        "inputY = torch.zeros((1, 1, 28, 28))\n",
        "inputY[:, :, 14, :] = torch.randn((28))\n",
        "Xweight = torch.randn((1, 28, 1))\n",
        "Yweight = torch.randn((1, 1, 28))"
      ]
    },
    {
      "cell_type": "code",
      "execution_count": null,
      "metadata": {
        "id": "8k8o27dYK3ng"
      },
      "outputs": [],
      "source": [
        "X = inputX * Xweight\n",
        "Xout = softmaxX(X)\n",
        "Y = inputY * Yweight\n",
        "Yout = softmaxY(Y)\n",
        "Out = Xout * Yout"
      ]
    },
    {
      "cell_type": "code",
      "execution_count": null,
      "metadata": {
        "id": "0emJEXuBG4ug"
      },
      "outputs": [],
      "source": [
        "softmaxX = nn.Softmax(-1)\n",
        "softmaxY = nn.Softmax(-2)"
      ]
    },
    {
      "cell_type": "code",
      "execution_count": null,
      "metadata": {
        "id": "y4ICiupkI3RV"
      },
      "outputs": [],
      "source": [
        "X_print = to_numpy(X)\n",
        "Xout_print = to_numpy(Xout)\n",
        "Y_print = to_numpy(Y)\n",
        "Yout_print = to_numpy(Yout)\n",
        "Out_print = to_numpy(Out)"
      ]
    },
    {
      "cell_type": "code",
      "execution_count": null,
      "metadata": {
        "colab": {
          "base_uri": "https://localhost:8080/",
          "height": 270
        },
        "id": "c6U9XxnwqdAV",
        "outputId": "3557a884-5a9d-42fa-c1f5-fba8dff782db"
      },
      "outputs": [
        {
          "data": {
            "image/png": "[encoded data removed]",
            "text/plain": [
              "<Figure size 432x288 with 10 Axes>"
            ]
          },
          "metadata": {},
          "output_type": "display_data"
        }
      ],
      "source": [
        "fig, ax = plt.subplots(3, 2)\n",
        "\n",
        "for x in range(3):\n",
        "\n",
        "    for y in range(2):\n",
        "\n",
        "        ax[x,y].axis(\"off\")\n",
        "\n",
        "ax[2,0].imshow(X_print[0].squeeze(-1), cmap='gray')\n",
        "ax[2,0].set_title(\"Y Weight sample\")\n",
        "ax[2,1].imshow(Xout_print[0].squeeze(-1), cmap='gray')\n",
        "ax[2,1].set_title(\"Y Weight post-softmax sample\")\n",
        "ax[0,0].imshow(Y_print[0].squeeze(-1), cmap='gray')\n",
        "ax[0,0].set_title(\"X Weight sample\")\n",
        "ax[0,1].imshow(Yout_print[0].squeeze(-1), cmap='gray')\n",
        "ax[0,1].set_title(\"X Weight post-softmax sample\")\n",
        "\n",
        "fig.colorbar(plt.cm.ScalarMappable().set_array(X_print[0].squeeze(-1)), cmap='gray', ax=ax[2,0])\n",
        "fig.colorbar(plt.cm.ScalarMappable().set_array(Xout_print[0].squeeze(-1)), cmap='gray', ax=ax[2,1])\n",
        "fig.colorbar(plt.cm.ScalarMappable().set_array(Y_print[0].squeeze(-1)), cmap='gray', ax=ax[0,0])\n",
        "fig.colorbar(plt.cm.ScalarMappable().set_array(Yout_print[0].squeeze(-1)), cmap='gray', ax=ax[0,1])\n",
        "\n",
        "fig.savefig(\"X_Y_weights_sketch.png\")\n",
        "\n",
        "plt.show()"
      ]
    },
    {
      "cell_type": "code",
      "execution_count": null,
      "metadata": {
        "colab": {
          "base_uri": "https://localhost:8080/",
          "height": 264
        },
        "id": "twbVHD3ELUO_",
        "outputId": "fd6674a3-7cbd-4a5c-96f2-4830b3021ba1"
      },
      "outputs": [
        {
          "data": {
            "image/png": "[encoded data removed]",
            "text/plain": [
              "<Figure size 432x288 with 2 Axes>"
            ]
          },
          "metadata": {},
          "output_type": "display_data"
        }
      ],
      "source": [
        "plt.imshow(Out_print[0].squeeze(-1), cmap='gray')\n",
        "plt.colorbar(plt.cm.ScalarMappable().set_array(Out_print[0].squeeze(-1)))\n",
        "plt.axis(\"off\")\n",
        "plt.title(\"Final Weight sample\")\n",
        "plt.savefig(\"final_weight_sketch.png\")\n",
        "plt.show()"
      ]
    },
    {
      "cell_type": "code",
      "source": [],
      "metadata": {
        "id": "FYDPRHok7odF"
      },
      "execution_count": null,
      "outputs": []
    },
    {
      "cell_type": "code",
      "source": [
        "class ControlA(nn.Module):\n",
        "    '''\n",
        "    Control Model, VGG-like architecture\n",
        "    '''\n",
        "\n",
        "    def __init__(self):\n",
        "        super(ControlA, self).__init__()\n",
        "\n",
        "        self.conv1 = nn.Conv2d(1, 100, 3, 1, 1, bias=True)\n",
        "        self.conv2A = nn.Conv2d(100, 100, 3, 1, 1, bias=True)\n",
        "        self.conv2B = nn.Conv2d(100, 100, 3, 1, 1, bias=True)\n",
        "        self.conv2C = nn.Conv2d(100, 100, 2, 2, 0, bias=False) # 14x14\n",
        "        self.conv3 = nn.Conv2d(100, 200, 3, 1, 1, bias=True)\n",
        "        self.conv4A = nn.Conv2d(200, 200, 3, 1, 1, bias=True)\n",
        "        self.conv4B = nn.Conv2d(200, 200, 3, 1, 1, bias=True)\n",
        "        self.conv4C = nn.Conv2d(200, 200, 2, 2, 0, bias=False) # 7x7\n",
        "        self.neuron_out = nn.Linear(7*7*200, 10, bias=True)\n",
        "\n",
        "        #self.sigmoid = nn.Sigmoid() # ---> Included in BCEWithLogits (in log version)\n",
        "\n",
        "        self.Relu = nn.ReLU()\n",
        "\n",
        "    def forward(self, input):\n",
        "\n",
        "        x = self.conv1(input)\n",
        "        x = self.Relu(x)\n",
        "\n",
        "        x = self.conv2A(x)\n",
        "        x = self.Relu(x)\n",
        "        x = self.conv2B(x)\n",
        "        x = self.Relu(x)\n",
        "        x = self.conv2C(x)\n",
        "        x = self.Relu(x)\n",
        "\n",
        "        x = self.conv3(x)\n",
        "        x = self.Relu(x)\n",
        "\n",
        "        x = self.conv4A(x)\n",
        "        x = self.Relu(x)\n",
        "        x = self.conv4B(x)\n",
        "        x = self.Relu(x)\n",
        "        x = self.conv4C(x)\n",
        "        x = self.Relu(x)\n",
        "\n",
        "        x = x.view(x.size(0), -1)\n",
        "\n",
        "        output = self.neuron_out(x)\n",
        "\n",
        "        return output"
      ],
      "metadata": {
        "id": "Z5RMLqv37ohx"
      },
      "execution_count": null,
      "outputs": []
    },
    {
      "cell_type": "code",
      "execution_count": null,
      "metadata": {
        "id": "pW0DrVM5r39W"
      },
      "outputs": [],
      "source": [
        "class ControlB(nn.Module):\n",
        "    '''\n",
        "    Control Model, ResNet-like architecture\n",
        "    '''\n",
        "\n",
        "    def __init__(self):\n",
        "        super(ControlB, self).__init__()\n",
        "\n",
        "        self.conv1 = nn.Conv2d(1, 100, 3, 1, 1, bias=True)\n",
        "        self.conv2A = nn.Conv2d(100, 100, 3, 1, 1, bias=True)\n",
        "        self.conv2B = nn.Conv2d(100, 100, 3, 1, 1, bias=True)\n",
        "        self.conv2C = nn.Conv2d(100, 100, 3, 1, 1, bias=True)\n",
        "        self.conv3 = nn.Conv2d(100, 100, 2, 2, 0, bias=False) # 14x14\n",
        "        self.conv4A = nn.Conv2d(100, 200, 3, 1, 1, bias=True)\n",
        "        self.conv4B = nn.Conv2d(200, 200, 3, 1, 1, bias=True)\n",
        "        self.conv4C = nn.Conv2d(200, 200, 3, 1, 1, bias=True)\n",
        "        self.conv5 = nn.Conv2d(200, 200, 2, 2, 0, bias=False) # 7x7\n",
        "        self.neuron_out = nn.Linear(7*7*200, 10, bias=True)\n",
        "\n",
        "        #self.sigmoid = nn.Sigmoid() # ---> Included in BCEWithLogits (in log version)\n",
        "\n",
        "        self.Relu = nn.ReLU()\n",
        "\n",
        "    def forward(self, input):\n",
        "\n",
        "        x = self.conv1(input)\n",
        "        x = self.Relu(x)\n",
        "\n",
        "        x = self.conv2A(x)\n",
        "        r1 = self.Relu(x)\n",
        "        x = self.conv2B(r1)\n",
        "        r2 = self.Relu(x)\n",
        "        x = self.conv2C(r2)\n",
        "        x = x + r1 + r2\n",
        "        x = self.Relu(x)\n",
        "\n",
        "        x = self.conv3(x)\n",
        "        x = self.Relu(x)\n",
        "\n",
        "        x = self.conv4A(x)\n",
        "        r1 = self.Relu(x)\n",
        "        x = self.conv4B(r1)\n",
        "        r2 = self.Relu(x)\n",
        "        x = self.conv4C(r2)\n",
        "        x = x + r1 + r2\n",
        "        x = self.Relu(x)\n",
        "\n",
        "        x = self.conv5(x)\n",
        "        x = self.Relu(x)\n",
        "\n",
        "        x = x.view(x.size(0), -1)\n",
        "\n",
        "        output = self.neuron_out(x)\n",
        "\n",
        "        return output"
      ]
    },
    {
      "cell_type": "code",
      "execution_count": null,
      "metadata": {
        "id": "iQmGHP2xr3_s"
      },
      "outputs": [],
      "source": [
        "control_modelA = ControlA().to(device)\n",
        "control_modelB = ControlB().to(device)"
      ]
    },
    {
      "cell_type": "code",
      "execution_count": null,
      "metadata": {
        "colab": {
          "base_uri": "https://localhost:8080/"
        },
        "id": "sXGh92Vrr4B2",
        "outputId": "08b4ef00-7945-4f54-eb04-3a2dba59e096"
      },
      "outputs": [
        {
          "output_type": "stream",
          "name": "stdout",
          "text": [
            "----------------------------------------------------------------\n",
            "        Layer (type)               Output Shape         Param #\n",
            "================================================================\n",
            "            Conv2d-1          [-1, 100, 28, 28]           1,000\n",
            "              ReLU-2          [-1, 100, 28, 28]               0\n",
            "            Conv2d-3          [-1, 100, 28, 28]          90,100\n",
            "              ReLU-4          [-1, 100, 28, 28]               0\n",
            "            Conv2d-5          [-1, 100, 28, 28]          90,100\n",
            "              ReLU-6          [-1, 100, 28, 28]               0\n",
            "            Conv2d-7          [-1, 100, 14, 14]          40,000\n",
            "              ReLU-8          [-1, 100, 14, 14]               0\n",
            "            Conv2d-9          [-1, 200, 14, 14]         180,200\n",
            "             ReLU-10          [-1, 200, 14, 14]               0\n",
            "           Conv2d-11          [-1, 200, 14, 14]         360,200\n",
            "             ReLU-12          [-1, 200, 14, 14]               0\n",
            "           Conv2d-13          [-1, 200, 14, 14]         360,200\n",
            "             ReLU-14          [-1, 200, 14, 14]               0\n",
            "           Conv2d-15            [-1, 200, 7, 7]         160,000\n",
            "             ReLU-16            [-1, 200, 7, 7]               0\n",
            "           Linear-17                   [-1, 10]          98,010\n",
            "================================================================\n",
            "Total params: 1,379,810\n",
            "Trainable params: 1,379,810\n",
            "Non-trainable params: 0\n",
            "----------------------------------------------------------------\n",
            "Input size (MB): 0.00\n",
            "Forward/backward pass size (MB): 5.83\n",
            "Params size (MB): 5.26\n",
            "Estimated Total Size (MB): 11.10\n",
            "----------------------------------------------------------------\n",
            "----------------------------------------------------------------\n",
            "        Layer (type)               Output Shape         Param #\n",
            "================================================================\n",
            "            Conv2d-1          [-1, 100, 28, 28]           1,000\n",
            "              ReLU-2          [-1, 100, 28, 28]               0\n",
            "            Conv2d-3          [-1, 100, 28, 28]          90,100\n",
            "              ReLU-4          [-1, 100, 28, 28]               0\n",
            "            Conv2d-5          [-1, 100, 28, 28]          90,100\n",
            "              ReLU-6          [-1, 100, 28, 28]               0\n",
            "            Conv2d-7          [-1, 100, 28, 28]          90,100\n",
            "              ReLU-8          [-1, 100, 28, 28]               0\n",
            "            Conv2d-9          [-1, 100, 14, 14]          40,000\n",
            "             ReLU-10          [-1, 100, 14, 14]               0\n",
            "           Conv2d-11          [-1, 200, 14, 14]         180,200\n",
            "             ReLU-12          [-1, 200, 14, 14]               0\n",
            "           Conv2d-13          [-1, 200, 14, 14]         360,200\n",
            "             ReLU-14          [-1, 200, 14, 14]               0\n",
            "           Conv2d-15          [-1, 200, 14, 14]         360,200\n",
            "             ReLU-16          [-1, 200, 14, 14]               0\n",
            "           Conv2d-17            [-1, 200, 7, 7]         160,000\n",
            "             ReLU-18            [-1, 200, 7, 7]               0\n",
            "           Linear-19                   [-1, 10]          98,010\n",
            "================================================================\n",
            "Total params: 1,469,910\n",
            "Trainable params: 1,469,910\n",
            "Non-trainable params: 0\n",
            "----------------------------------------------------------------\n",
            "Input size (MB): 0.00\n",
            "Forward/backward pass size (MB): 7.03\n",
            "Params size (MB): 5.61\n",
            "Estimated Total Size (MB): 12.64\n",
            "----------------------------------------------------------------\n"
          ]
        }
      ],
      "source": [
        "summary(control_modelA, (1, 28, 28))\n",
        "summary(control_modelB, (1, 28, 28))"
      ]
    },
    {
      "cell_type": "code",
      "execution_count": null,
      "metadata": {
        "id": "jI1U2LmUsr1r"
      },
      "outputs": [],
      "source": [
        "class HeadAttention(torch.nn.Module):\n",
        "\n",
        "    '''\n",
        "    Attention Layer might be useful to detect most relevant features in the images.\n",
        "\n",
        "    Adapted in order to be used with element-wise operations directly to images and feature maps.\n",
        "\n",
        "    There are weights for the rows(X axis) and for the columns(Y axis). Each weight is applied to the input first in the X axis and then in the Y axis.\n",
        "\n",
        "    At the end, the result is multiplied in order to get the proper array of weights, where aij = weight map\n",
        "\n",
        "    So each attention weight is something like this:\n",
        "\n",
        "      |Aij Bij Cij|\n",
        "      |Dij Eij Fij|, where Xij = weight x axis * weight y axis\n",
        "      |Gij Hij Iij|\n",
        "\n",
        "    Considering that the softmax function has outputs within range [0,1], we can conclude that each weight will be within range [0,1], where 1 is the most important feature.\n",
        "\n",
        "    OBS: This layer generates small gradients. When stacking too many layers, consider adding residual blocks and skip connections.\n",
        "    '''\n",
        "\n",
        "    def __init__(self, input_channels, input_width, input_height):\n",
        "\n",
        "        super(HeadAttention, self).__init__()\n",
        "\n",
        "        # Creating array of weights for element-wise operations\n",
        "        self.x_weights = nn.Parameter(torch.ones((input_channels, input_width, input_height)))\n",
        "        self.y_weights = nn.Parameter(torch.ones((input_channels, input_width, input_height)))\n",
        "        #self.x_weights = nn.Parameter(torch.normal(0, 0.02, size=(input_channels, input_width, input_height)))\n",
        "        #self.y_weights = nn.Parameter(torch.normal(0, 0.02, size=(input_channels, input_width, input_height)))\n",
        "\n",
        "        self.batchnorm = torch.nn.BatchNorm2d(input_channels) # To compensate the lack of the sqrt(d_key) scaling factor\n",
        "\n",
        "        #self.softmax = torch.nn.Softmax2d() # Computes softmax over each channel\n",
        "        self.Xsoftmax = torch.nn.Softmax(-2)\n",
        "        self.Ysoftmax = torch.nn.Softmax(-1)\n",
        "\n",
        "    def forward(self, input):\n",
        "\n",
        "        attention_output = []\n",
        "\n",
        "        for batch in range(input.size(0)):\n",
        "\n",
        "            input_data = input[batch] # (Channels, Height, Width)\n",
        "\n",
        "            x_weights = input_data * self.x_weights\n",
        "            y_weights = input_data * self.y_weights\n",
        "\n",
        "            x_weights = self.Xsoftmax(x_weights)\n",
        "            y_weights = self.Ysoftmax(y_weights)\n",
        "\n",
        "            attention_weights = x_weights * y_weights # (Channels, Height, Width)\n",
        "\n",
        "            attention_output.append(attention_weights.unsqueeze(0)) # (1, Channels, Height, Width)\n",
        "\n",
        "        attention_output = torch.cat(attention_output, 0) # (Batch, Channels, Height, Width)\n",
        "\n",
        "        attention_output = self.batchnorm(attention_output)\n",
        "\n",
        "        attention_output = input * attention_output # (Batch, Channels, Height, Width)\n",
        "\n",
        "        return attention_output"
      ]
    },
    {
      "cell_type": "code",
      "execution_count": null,
      "metadata": {
        "id": "dI82s2_KtOOe"
      },
      "outputs": [],
      "source": [
        "class AttentionLayer(nn.Module):\n",
        "\n",
        "    '''\n",
        "    Applies the MultiHead Attention Arrays\n",
        "    '''\n",
        "\n",
        "    def __init__(self, n_heads, input_channels, input_width, input_height):\n",
        "\n",
        "        self.n_heads = n_heads\n",
        "\n",
        "        super(AttentionLayer, self).__init__()\n",
        "\n",
        "        self.attention_heads = torch.nn.ModuleList([HeadAttention(input_channels, input_width, input_height) for i in range(n_heads)])\n",
        "        self.convattention = nn.Conv2d(input_channels*n_heads, input_channels, 3, 1, 1, bias=True)\n",
        "        self.batchnorm = nn.BatchNorm2d(input_channels)\n",
        "\n",
        "        self.Relu = nn.ReLU()\n",
        "\n",
        "    def forward(self, input):\n",
        "\n",
        "        attention_output = []\n",
        "\n",
        "        for head in range(self.n_heads):\n",
        "\n",
        "            x = self.attention_heads[head](input)\n",
        "\n",
        "            attention_output.append(x)\n",
        "\n",
        "            del x\n",
        "\n",
        "        attention_output = torch.cat(attention_output, 1) # (Batch, n_channels*n_heads, Height, Width)\n",
        "\n",
        "        attention_output = self.convattention(attention_output) # (Batch, n_channels, Height, Width)\n",
        "\n",
        "        attention_output = input + attention_output # (Batch, n_channels, Height, Width)\n",
        "\n",
        "        #attention_output = self.batchnorm(attention_output) # BatchNorm to be removed ---> Might be decreasing the Attention performance\n",
        "\n",
        "        attention_output = self.Relu(attention_output)\n",
        "\n",
        "        return attention_output"
      ]
    },
    {
      "cell_type": "code",
      "execution_count": null,
      "metadata": {
        "id": "CewSu6QrtFoA"
      },
      "outputs": [],
      "source": [
        "class AttentionModel(nn.Module):\n",
        "    '''\n",
        "    Attention Classifier\n",
        "    '''\n",
        "    def __init__(self, n_heads):\n",
        "        super(AttentionModel, self).__init__()\n",
        "\n",
        "        self.attention1 = AttentionLayer(n_heads, 1, 28, 28)\n",
        "        self.attention2 = AttentionLayer(n_heads, 1, 28, 28)\n",
        "        '''self.attention3 = AttentionLayer(n_heads, 1, 28, 28)\n",
        "        self.attention4 = AttentionLayer(n_heads, 1, 28, 28)'''\n",
        "        self.neuron_out = nn.Linear(1*28*28, 10, bias=True)\n",
        "\n",
        "        #self.sigmoid = nn.Sigmoid() # ---> Included in BCEWithLogits (in log version)\n",
        "\n",
        "    def forward(self, input):\n",
        "\n",
        "        x = self.attention1(input)\n",
        "        x = self.attention2(x)\n",
        "        #x = self.attention3(x)\n",
        "       # x = self.attention4(x)\n",
        "\n",
        "        x = x.view(x.size(0), -1)\n",
        "\n",
        "        output = self.neuron_out(x)\n",
        "\n",
        "        #output = self.sigmoid(x)\n",
        "\n",
        "        return output"
      ]
    },
    {
      "cell_type": "code",
      "execution_count": null,
      "metadata": {
        "id": "UGwh4UuatMJq"
      },
      "outputs": [],
      "source": [
        "attention_model = AttentionModel(8).to(device)"
      ]
    },
    {
      "cell_type": "code",
      "source": [
        "from time import time, sleep"
      ],
      "metadata": {
        "id": "ADG5OnOF9dDm"
      },
      "execution_count": null,
      "outputs": []
    },
    {
      "cell_type": "code",
      "source": [
        "toyI = torch.randn((1, 3, 1024, 1024)).to(device)\n",
        "toyT = torch.ones((1, 1, 1024, 1024)).to(device)\n",
        "mse = nn.MSELoss()\n",
        "\n",
        "toyC = nn.Conv2d(3, 1, 3, 1, 1).to(device)\n",
        "toyA = AttentionLayer(2, 3, 1024, 1024).to(device)\n",
        "\n",
        "timeC, backtimeC = [], []\n",
        "timeA, backtimeA = [], []"
      ],
      "metadata": {
        "id": "obsRy9cG9cOU"
      },
      "execution_count": null,
      "outputs": []
    },
    {
      "cell_type": "code",
      "source": [
        "for i in range(1000):\n",
        "\n",
        "    '''sleep(2)\n",
        "\n",
        "    startC = time()\n",
        "\n",
        "    out = toyC(toyI)\n",
        "\n",
        "    endC = time()\n",
        "\n",
        "    timeC.append((endC-startC))\n",
        "\n",
        "    loss = mse(out, toyT)\n",
        "\n",
        "    sleep(2)\n",
        "\n",
        "    startBC = time()\n",
        "\n",
        "    loss.backward()\n",
        "\n",
        "    endBC = time()\n",
        "\n",
        "    backtimeC.append((endBC-startBC))'''\n",
        "\n",
        "    sleep(2)\n",
        "\n",
        "    startA = time()\n",
        "\n",
        "    out = toyA(toyI)\n",
        "\n",
        "    endA = time()\n",
        "\n",
        "    timeA.append((endA-startA))\n",
        "\n",
        "    loss = mse(out, toyT)\n",
        "\n",
        "    sleep(2)\n",
        "\n",
        "    startBA = time()\n",
        "\n",
        "    loss.backward()\n",
        "\n",
        "    endBA = time()\n",
        "\n",
        "    backtimeA.append((endBA-startBA))"
      ],
      "metadata": {
        "id": "Xf_gV0k_9nYp"
      },
      "execution_count": null,
      "outputs": []
    },
    {
      "cell_type": "code",
      "source": [
        "timeC, backtimeC = np.array(timeC), np.array(backtimeC)\n",
        "timeA, backtimeA = np.array(timeA), np.array(backtimeA)\n",
        "\n",
        "print(timeC.mean(), timeC.std())\n",
        "print(backtimeC.mean(), backtimeC.std())\n",
        "print(timeA.mean(), timeA.std())\n",
        "print(backtimeA.mean(), backtimeA.std())"
      ],
      "metadata": {
        "id": "WN6YYvJ89002",
        "colab": {
          "base_uri": "https://localhost:8080/"
        },
        "outputId": "b3521774-071f-4c78-c805-59d3eade54a9"
      },
      "execution_count": null,
      "outputs": [
        {
          "output_type": "stream",
          "name": "stdout",
          "text": [
            "0.00036766958236694334 3.174617114698771e-05\n",
            "0.0007001910209655761 5.4138050363009406e-05\n",
            "0.0010667982101440429 0.00011658403022645114\n",
            "0.0011748392581939697 9.94331126400295e-05\n"
          ]
        }
      ]
    },
    {
      "cell_type": "markdown",
      "metadata": {
        "id": "2lHTb6CgzLrf"
      },
      "source": [
        "### Control Parameters = 929,510\n",
        "\n",
        "### Attention Model Paramaters = 10,976 (1,568 per layer + 7,840 linear layer)"
      ]
    },
    {
      "cell_type": "code",
      "execution_count": null,
      "metadata": {
        "id": "zUcRxpKGugj7"
      },
      "outputs": [],
      "source": [
        "def weights_init(net):\n",
        "\n",
        "    for n, p in net.named_parameters():\n",
        "\n",
        "        if 'weight' in n:\n",
        "\n",
        "            nn.init.normal_(p, 0, 0.02)\n",
        "\n",
        "        else:\n",
        "\n",
        "            nn.init.constant_(p, 0.)"
      ]
    },
    {
      "cell_type": "code",
      "source": [
        "attention_model = AttentionModel(4).to(device)"
      ],
      "metadata": {
        "id": "XaQwf7hQYEw4"
      },
      "execution_count": null,
      "outputs": []
    },
    {
      "cell_type": "code",
      "execution_count": null,
      "metadata": {
        "id": "mq3zdFpgugnS",
        "colab": {
          "base_uri": "https://localhost:8080/"
        },
        "outputId": "ad2b42d0-b768-436e-8e41-4c523526109a"
      },
      "outputs": [
        {
          "output_type": "execute_result",
          "data": {
            "text/plain": [
              "Parameter containing:\n",
              "tensor([[[[-0.0054,  0.0334,  0.0005],\n",
              "          [-0.0028,  0.0191, -0.0533],\n",
              "          [ 0.0262, -0.0172,  0.0053]],\n",
              "\n",
              "         [[ 0.0097,  0.0260, -0.0103],\n",
              "          [ 0.0064, -0.0080,  0.0401],\n",
              "          [-0.0165,  0.0318, -0.0042]],\n",
              "\n",
              "         [[-0.0107, -0.0131,  0.0014],\n",
              "          [-0.0150,  0.0001,  0.0063],\n",
              "          [-0.0131, -0.0299, -0.0086]],\n",
              "\n",
              "         [[ 0.0042, -0.0285, -0.0255],\n",
              "          [-0.0193, -0.0185,  0.0144],\n",
              "          [ 0.0011,  0.0318,  0.0129]],\n",
              "\n",
              "         [[-0.0063,  0.0460, -0.0412],\n",
              "          [ 0.0111,  0.0087, -0.0103],\n",
              "          [ 0.0296, -0.0210, -0.0236]],\n",
              "\n",
              "         [[-0.0070,  0.0041,  0.0285],\n",
              "          [-0.0048, -0.0336, -0.0251],\n",
              "          [-0.0287, -0.0061,  0.0142]],\n",
              "\n",
              "         [[-0.0225, -0.0193, -0.0100],\n",
              "          [-0.0053, -0.0257, -0.0011],\n",
              "          [ 0.0015,  0.0266,  0.0142]],\n",
              "\n",
              "         [[-0.0167, -0.0448, -0.0053],\n",
              "          [-0.0308,  0.0112,  0.0049],\n",
              "          [-0.0196, -0.0020,  0.0195]]]], device='cuda:0', requires_grad=True)"
            ]
          },
          "metadata": {},
          "execution_count": 13
        }
      ],
      "source": [
        "weights_init(control_modelA)\n",
        "weights_init(control_modelB)\n",
        "#weights_init(attention_model)\n",
        "nn.init.normal_(attention_model.attention1.convattention.weight, 0, 0.02)\n",
        "nn.init.normal_(attention_model.attention2.convattention.weight, 0, 0.02)"
      ]
    },
    {
      "cell_type": "code",
      "execution_count": null,
      "metadata": {
        "id": "fip9axNHugpa"
      },
      "outputs": [],
      "source": [
        "optimizer_controlA = torch.optim.Adam(control_modelA.parameters(), lr=1e-3, betas=(0.9, 0.999))\n",
        "optimizer_controlB = torch.optim.Adam(control_modelB.parameters(), lr=1e-3, betas=(0.9, 0.999))\n",
        "optimizer_attention = torch.optim.Adam(attention_model.parameters(), lr=1e-3, betas=(0.9, 0.999))"
      ]
    },
    {
      "cell_type": "code",
      "execution_count": null,
      "metadata": {
        "id": "NUIrqzeiugsG"
      },
      "outputs": [],
      "source": [
        "loss = nn.CrossEntropyLoss()"
      ]
    },
    {
      "cell_type": "code",
      "execution_count": null,
      "metadata": {
        "id": "xS0-cziaugug"
      },
      "outputs": [],
      "source": [
        "EPOCHS = 10\n",
        "iters = 0.\n",
        "\n",
        "train_loader = torch.utils.data.DataLoader(train_data, batch_size=1024, shuffle=True)\n",
        "test_loader = torch.utils.data.DataLoader(test_data, batch_size=1024, shuffle=True)\n",
        "\n",
        "controlA_losses = []\n",
        "controlA_accuracies = []\n",
        "controlB_losses = []\n",
        "controlB_accuracies = []\n",
        "attention_losses = []\n",
        "attention_accuracies = []\n",
        "\n",
        "controlA_gradients = []\n",
        "controlB_gradients = []\n",
        "attention_gradients = []"
      ]
    },
    {
      "cell_type": "code",
      "execution_count": null,
      "metadata": {
        "id": "eXafFveYutua",
        "colab": {
          "base_uri": "https://localhost:8080/"
        },
        "outputId": "a092f76a-6eae-445f-8c17-c15fb8c4c5ac"
      },
      "outputs": [
        {
          "output_type": "stream",
          "name": "stdout",
          "text": [
            "1/10\n",
            "Control Model A Loss: 5.738954529166222\tControl Model A Accuracy: 79.80999755859375\n",
            "Control Model B Loss: 5.749114534258842\tControl Model B Accuracy: 81.75\n",
            "Attention Model Loss: 64.51829814910889\tAttention Model Accuracy: 75.83000183105469\n",
            "Control Model A Gradients: -0.0016309145139530301\tControl Model B Gradients: -0.003946265205740929\n",
            "Attention Model Gradients: 6.356327162393427e-07\n",
            "2/10\n",
            "Control Model A Loss: 2.571029132604599\tControl Model A Accuracy: 85.29999542236328\n",
            "Control Model B Loss: 2.4261570870876312\tControl Model B Accuracy: 85.58999633789062\n",
            "Attention Model Loss: 37.10028302669525\tAttention Model Accuracy: 79.37999725341797\n",
            "Control Model A Gradients: -0.0017274438869208097\tControl Model B Gradients: -0.001133084762841463\n",
            "Attention Model Gradients: -1.6759757954787347e-06\n",
            "3/10\n",
            "Control Model A Loss: 2.1216258347034453\tControl Model A Accuracy: 87.02999877929688\n",
            "Control Model B Loss: 2.0217943012714388\tControl Model B Accuracy: 87.27999877929688\n",
            "Attention Model Loss: 33.00444641709328\tAttention Model Accuracy: 80.8499984741211\n",
            "Control Model A Gradients: 0.002367529086768627\tControl Model B Gradients: 0.0017639562720432878\n",
            "Attention Model Gradients: 3.86541159969056e-06\n",
            "4/10\n",
            "Control Model A Loss: 1.8490731090307235\tControl Model A Accuracy: 87.2199935913086\n",
            "Control Model B Loss: 1.7581456735730172\tControl Model B Accuracy: 87.56999969482422\n",
            "Attention Model Loss: 30.15792840719223\tAttention Model Accuracy: 81.86000061035156\n",
            "Control Model A Gradients: -0.0020779711194336414\tControl Model B Gradients: -0.003325275843963027\n",
            "Attention Model Gradients: -9.831926035985816e-06\n",
            "5/10\n",
            "Control Model A Loss: 1.6492426306009293\tControl Model A Accuracy: 89.16999816894531\n",
            "Control Model B Loss: 1.6054093539714813\tControl Model B Accuracy: 89.30000305175781\n",
            "Attention Model Loss: 27.763505905866623\tAttention Model Accuracy: 82.98999786376953\n",
            "Control Model A Gradients: 0.0039866310544312\tControl Model B Gradients: 0.003758326405659318\n",
            "Attention Model Gradients: 6.39109293842921e-06\n",
            "6/10\n",
            "Control Model A Loss: 1.5331266134977342\tControl Model A Accuracy: 89.1500015258789\n",
            "Control Model B Loss: 1.489357952773571\tControl Model B Accuracy: 89.58999633789062\n",
            "Attention Model Loss: 26.23192724585533\tAttention Model Accuracy: 83.15999603271484\n",
            "Control Model A Gradients: -0.002044476568698883\tControl Model B Gradients: 0.0008289840770885348\n",
            "Attention Model Gradients: -3.786440720432438e-05\n",
            "7/10\n",
            "Control Model A Loss: 1.4334144279360772\tControl Model A Accuracy: 90.16999816894531\n",
            "Control Model B Loss: 1.3731776565313338\tControl Model B Accuracy: 89.93000030517578\n",
            "Attention Model Loss: 25.549634516239166\tAttention Model Accuracy: 83.62999725341797\n",
            "Control Model A Gradients: -0.0036747537087649107\tControl Model B Gradients: -0.0033593347761780024\n",
            "Attention Model Gradients: -5.096343102195533e-06\n",
            "8/10\n",
            "Control Model A Loss: 1.3469635620713234\tControl Model A Accuracy: 90.3499984741211\n",
            "Control Model B Loss: 1.2684740021824836\tControl Model B Accuracy: 91.0\n",
            "Attention Model Loss: 24.706456035375595\tAttention Model Accuracy: 83.88999938964844\n",
            "Control Model A Gradients: -0.002070414600893855\tControl Model B Gradients: 0.0011154621606692672\n",
            "Attention Model Gradients: 1.77248348336434e-05\n",
            "9/10\n",
            "Control Model A Loss: 1.2636680752038956\tControl Model A Accuracy: 90.52000427246094\n",
            "Control Model B Loss: 1.1914340391755105\tControl Model B Accuracy: 91.06999969482422\n",
            "Attention Model Loss: 24.29696273803711\tAttention Model Accuracy: 84.05000305175781\n",
            "Control Model A Gradients: -0.006691153161227703\tControl Model B Gradients: 0.0006953523843549192\n",
            "Attention Model Gradients: -3.0439166494033998e-06\n",
            "10/10\n",
            "Control Model A Loss: 1.212484911084175\tControl Model A Accuracy: 90.7699966430664\n",
            "Control Model B Loss: 1.1378258675336839\tControl Model B Accuracy: 91.05999755859375\n",
            "Attention Model Loss: 23.974220991134644\tAttention Model Accuracy: 84.33999633789062\n",
            "Control Model A Gradients: -0.008687954396009445\tControl Model B Gradients: -0.0016318210400640965\n",
            "Attention Model Gradients: -5.898693052586168e-05\n",
            "****TRAINING COMPLETE****\n",
            "10/10\n",
            "Control Model A Loss MEAN: 0.35117936993049365\tSTD: 0.2721518727596049\n",
            "Control Model A Accuracy MEAN: 87.9489974975586\tSTD: 3.2067983150482178\n",
            "Gradients Average MEAN: 0.0001235818926943466\tSTD: 0.007949876599013805\n",
            "Control Model B Loss MEAN: 0.3393371265823558\tSTD: 0.27759485147303975\n",
            "Control Model B Accuracy MEAN: 88.41400146484375\tSTD: 2.8211958408355713\n",
            "Gradients Average MEAN: 7.21868418622762e-05\tSTD: 0.009693740867078304\n",
            "Attention Model Loss MEAN: 0.5378028193772849\tSTD: 0.24930485589114718\n",
            "Attention Model Accuracy MEAN: 81.99800109863281\tSTD: 2.5398449897766113\n",
            "Gradients Average MEAN: 1.4001966519572306e-07\tSTD: 1.5367546438938007e-05\n"
          ]
        }
      ],
      "source": [
        "for epoch in range(EPOCHS):\n",
        "\n",
        "    controlA_epoch_loss = 0.\n",
        "    controlB_epoch_loss = 0.\n",
        "    attention_epoch_loss = 0.\n",
        "\n",
        "    for item, (image, target) in enumerate(train_loader):\n",
        "\n",
        "        control_modelA.zero_grad()\n",
        "        control_modelB.zero_grad()\n",
        "        attention_model.zero_grad()\n",
        "\n",
        "        image, target = image.to(device), target.to(device)\n",
        "\n",
        "        controlA_output = control_modelA(image)\n",
        "        controlB_output = control_modelB(image)\n",
        "        attention_output = attention_model(image)\n",
        "\n",
        "        control_lossA = loss(controlA_output, target)\n",
        "        control_lossB = loss(controlB_output, target)\n",
        "\n",
        "        controlA_losses.append(control_lossA.item())\n",
        "        controlB_losses.append(control_lossB.item())\n",
        "\n",
        "        controlA_epoch_loss += control_lossA.item()\n",
        "        controlB_epoch_loss += control_lossB.item()\n",
        "\n",
        "        control_lossA.backward()\n",
        "        control_lossB.backward()\n",
        "\n",
        "        control_gradients_avg = torch.mean(control_modelA.conv1.weight.grad)\n",
        "        controlA_gradients.append(control_gradients_avg.cpu())\n",
        "\n",
        "        control_gradients_avg = torch.mean(control_modelB.conv1.weight.grad)\n",
        "        controlB_gradients.append(control_gradients_avg.cpu())\n",
        "\n",
        "        optimizer_controlA.step()\n",
        "        optimizer_controlB.step()\n",
        "\n",
        "        attention_loss = loss(attention_output, target)\n",
        "\n",
        "        attention_losses.append(attention_loss.item())\n",
        "\n",
        "        attention_epoch_loss += attention_loss.item()\n",
        "\n",
        "        attention_loss.backward()\n",
        "\n",
        "        attention_gradients_avg = torch.mean(attention_model.attention1.attention_heads[0].x_weights.grad)\n",
        "        attention_gradients.append(attention_gradients_avg.cpu())\n",
        "\n",
        "        optimizer_attention.step()\n",
        "\n",
        "        iters += 1\n",
        "\n",
        "    if epoch % 1 == 0:\n",
        "\n",
        "        total = 0.\n",
        "        correct_controlA = 0.\n",
        "        correct_controlB = 0.\n",
        "        correct_attention = 0.\n",
        "\n",
        "        for item, (image, target) in enumerate(test_loader):\n",
        "\n",
        "            image, target = image.to(device), target.to(device)\n",
        "            control_modelA.eval()\n",
        "            control_modelB.eval()\n",
        "            attention_model.eval()\n",
        "            with torch.no_grad():\n",
        "                controlA_output = control_modelA(image)\n",
        "                controlB_output = control_modelB(image)\n",
        "                attention_output = attention_model(image)\n",
        "\n",
        "            total += len(target)\n",
        "\n",
        "            _, controlA_output = torch.max(controlA_output, 1)\n",
        "            _, controlB_output = torch.max(controlB_output, 1)\n",
        "            _, attention_output = torch.max(attention_output, 1)\n",
        "\n",
        "            correct_controlA += (controlA_output == target).sum()\n",
        "            correct_controlB += (controlB_output == target).sum()\n",
        "            correct_attention += (attention_output == target).sum()\n",
        "\n",
        "        controlA_accuracy = (correct_controlA/total)*100\n",
        "        controlA_accuracies.append(controlA_accuracy.cpu())\n",
        "\n",
        "        controlB_accuracy = (correct_controlB/total)*100\n",
        "        controlB_accuracies.append(controlB_accuracy.cpu())\n",
        "\n",
        "        attention_accuracy = (correct_attention/total)*100\n",
        "        attention_accuracies.append(attention_accuracy.cpu())\n",
        "\n",
        "        control_modelA.train()\n",
        "        control_modelB.train()\n",
        "        attention_model.train()\n",
        "\n",
        "        print(f\"{epoch+1}/{EPOCHS}\")\n",
        "        print(f\"Control Model A Loss: {controlA_epoch_loss/(item+1)}\\tControl Model A Accuracy: {controlA_accuracy}\")\n",
        "        print(f\"Control Model B Loss: {controlB_epoch_loss/(item+1)}\\tControl Model B Accuracy: {controlB_accuracy}\")\n",
        "        print(f\"Attention Model Loss: {attention_epoch_loss}\\tAttention Model Accuracy: {attention_accuracy}\")\n",
        "        print(f\"Control Model A Gradients: {controlA_gradients[-1]}\\tControl Model B Gradients: {controlB_gradients[-1]}\")\n",
        "        print(f\"Attention Model Gradients: {attention_gradients[-1]}\")\n",
        "\n",
        "controlA_losses = np.array(controlA_losses)\n",
        "controlA_accuracies = np.array(controlA_accuracies)\n",
        "controlB_losses = np.array(controlB_losses)\n",
        "controlB_accuracies = np.array(controlB_accuracies)\n",
        "attention_losses = np.array(attention_losses)\n",
        "attention_accuracies = np.array(attention_accuracies)\n",
        "controlA_gradients = np.array(controlA_gradients)\n",
        "controlB_gradients = np.array(controlB_gradients)\n",
        "attention_gradients = np.array(attention_gradients)\n",
        "\n",
        "print(\"****TRAINING COMPLETE****\")\n",
        "print(f\"{epoch+1}/{EPOCHS}\")\n",
        "print(f\"Control Model A Loss MEAN: {controlA_losses.mean()}\\tSTD: {controlA_losses.std()}\")\n",
        "print(f\"Control Model A Accuracy MEAN: {controlA_accuracies.mean()}\\tSTD: {controlA_accuracies.std()}\")\n",
        "print(f\"Gradients Average MEAN: {controlA_gradients.mean()}\\tSTD: {controlA_gradients.std()}\")\n",
        "print(f\"Control Model B Loss MEAN: {controlB_losses.mean()}\\tSTD: {controlB_losses.std()}\")\n",
        "print(f\"Control Model B Accuracy MEAN: {controlB_accuracies.mean()}\\tSTD: {controlB_accuracies.std()}\")\n",
        "print(f\"Gradients Average MEAN: {controlB_gradients.mean()}\\tSTD: {controlB_gradients.std()}\")\n",
        "print(f\"Attention Model Loss MEAN: {attention_losses.mean()}\\tSTD: {attention_losses.std()}\")\n",
        "print(f\"Attention Model Accuracy MEAN: {attention_accuracies.mean()}\\tSTD: {attention_accuracies.std()}\")\n",
        "print(f\"Gradients Average MEAN: {attention_gradients.mean()}\\tSTD: {attention_gradients.std()}\")"
      ]
    },
    {
      "cell_type": "markdown",
      "metadata": {
        "id": "b_bOQtEkDBLE"
      },
      "source": [
        "# Models' Performance - 10 Epochs - LR = 1e-3\n",
        "\n",
        "## Control Model A:\n",
        "\n",
        "Loss MEAN = 0.321 ; STD = 0.257\n",
        "\n",
        "Accuracy MEAN = 89.40% ; STD = 1.68\n",
        "\n",
        "Gradients Avg = 1.25e-4 ; Std: 6.258e-3\n",
        "\n",
        "## Control Model B:\n",
        "\n",
        "Loss MEAN = 0.310 ; STD = 0.247\n",
        "\n",
        "Accuracy MEAN = 89.65% ; STD = 1.70\n",
        "\n",
        "Gradients Avg = 6.82e-5 ; Std: 4.61e-3\n",
        "\n",
        "### Attention Model - 2 layers, 4 heads, with BatchNorm\n",
        "\n",
        "Loss MEAN = 0.506 ; STD = 0.26\n",
        "\n",
        "Accuracy MEAN = 83.66% ; STD = 2.77\n",
        "\n",
        "Gradients Avg = 1.88e-6 ; Std = 5.45e-6\n",
        "\n",
        "### Attention Model - 2 layers, 4 heads, WITHOUT BatchNorm\n",
        "\n",
        "Loss MEAN = 0.558 ; STD = 0.249\n",
        "\n",
        "Accuracy MEAN = 81.50% ; STD = 2.230\n",
        "\n",
        "Gradients Avg = 1.52e-6 ; Std = 3.70e-6\n",
        "\n",
        "### Attention Model - 2 layers, 8 heads, with BatchNorm\n",
        "\n",
        "Loss MEAN = 0.529 ; STD = 0.247\n",
        "\n",
        "Accuracy MEAN = 81.90% ; STD = 2.94%\n",
        "\n",
        "Gradients Avg = 5.30e-7 ; Std: 5.04e-6\n",
        "\n",
        "### Attention Model - 2 layers, 8 heads, WITHOUT Batchnorm\n",
        "\n",
        "Loss MEAN =  ; STD =\n",
        "\n",
        "Accuracy MEAN =  ; STD =\n",
        "\n",
        "Gradients Avg =  ; STD =\n",
        "\n",
        "### Attention Model - 4 layers, 4 heads, with BatchNorm\n",
        "\n",
        "Loss MEAN = 0.496 ; STD = 0.242\n",
        "\n",
        "Accuracy MEAN = 82.41% ; STD = 4.43%\n",
        "\n",
        "Gradients Avg = 1.15e-6 ; Std: 6.59e-6\n",
        "\n",
        "### Attention Model - 4 layers, 4 heads, WITHOUT BatchNorm\n",
        "\n",
        "Loss MEAN =  ; STD =\n",
        "\n",
        "Accuracy MEAN =  ; STD =\n",
        "\n",
        "Gradients Avg =  ; Std:\n",
        "\n",
        "### Attention Model - 4 layers, 8 heads, with BatchNorm\n",
        "\n",
        "Loss MEAN = ; STD =\n",
        "\n",
        "Accuracy MEAN =  ; STD =\n",
        "\n",
        "Gradients Avg =  ; Std:\n",
        "\n",
        "### Attention Model - 4 layers, 8 heads, WITHOUT BatchNorm\n",
        "\n",
        "Loss MEAN =  ; STD =\n",
        "\n",
        "Accuracy MEAN =  ; STD =\n",
        "\n",
        "Gradients Avg =  ; Std:\n",
        "\n",
        "### Attention Model - 4 layers, 16 heads, WITHOUT BatchNorm (8 Epochs)\n",
        "\n",
        "Loss MEAN = 0.310 ; STD = 0.247\n",
        "\n",
        "Accuracy MEAN = 89.65% ; STD = 1.70\n",
        "\n",
        "Gradients Avg = 6.82e-5 ; Std: 4.61e-3\n"
      ]
    },
    {
      "cell_type": "code",
      "execution_count": null,
      "metadata": {
        "colab": {
          "base_uri": "https://localhost:8080/",
          "height": 497
        },
        "id": "iB-cmCn8ut6-",
        "outputId": "f3d32114-5492-46c0-c4b9-285b62fec760"
      },
      "outputs": [
        {
          "output_type": "display_data",
          "data": {
            "text/plain": [
              "<Figure size 640x480 with 25 Axes>"
            ],
            "image/png": "[encoded data removed]"
          },
          "metadata": {}
        }
      ],
      "source": [
        "# 2 layers, 4 heads + w/oBatchNorm\n",
        "\n",
        "from matplotlib.ticker import FuncFormatter\n",
        "\n",
        "fig, ax = plt.subplots(5,5)\n",
        "\n",
        "control_fmt = lambda x, pos: '{:.2f}'.format(x, pos)\n",
        "attention_fmt = lambda x, pos: '{:.1}'.format(x, pos)\n",
        "\n",
        "ax[0,1].axis(\"off\")\n",
        "ax[0,3].axis(\"off\")\n",
        "ax[1,0].axis(\"off\")\n",
        "ax[1,1].axis('off')\n",
        "ax[1,2].axis(\"off\")\n",
        "ax[1,3].axis(\"off\")\n",
        "ax[1,4].axis('off')\n",
        "ax[2,1].axis(\"off\")\n",
        "ax[2,3].axis(\"off\")\n",
        "ax[3,0].axis(\"off\")\n",
        "ax[3,1].axis(\"off\")\n",
        "ax[3,2].axis(\"off\")\n",
        "ax[3,3].axis('off')\n",
        "ax[3,4].axis('off')\n",
        "ax[4,1].axis(\"off\")\n",
        "ax[4,3].axis(\"off\")\n",
        "\n",
        "ax[0,0].plot(torch.arange(0, iters), controlA_losses)\n",
        "ax[0,0].set_title(\"Control A Losses\", fontsize=10)\n",
        "ax[0,0].set_xlabel(\"Iterations\", fontsize=10)\n",
        "ax[0,0].set_ylabel(\"Loss Value\", fontsize=8)\n",
        "\n",
        "ax[0,2].plot(torch.arange(0, EPOCHS), controlA_accuracies)\n",
        "ax[0,2].set_title(\"Control A Accuracy %\", fontsize=10)\n",
        "ax[0,2].set_xlabel(\"Epochs\", fontsize=10)\n",
        "ax[0,2].set_ylabel(\"Accuracy (%)\", fontsize=8)\n",
        "\n",
        "ax[0,4].plot(torch.arange(0, iters), controlA_gradients)\n",
        "ax[0,4].yaxis.set_major_formatter(FuncFormatter(control_fmt))\n",
        "ax[0,4].set_title(\"Control A Gradients\", fontsize=10)\n",
        "ax[0,4].set_xlabel(\"Iterations\", fontsize=10)\n",
        "ax[0,4].set_ylabel(\"Grads Avg\", fontsize=8)\n",
        "\n",
        "ax[2,0].plot(torch.arange(0, iters), controlB_losses)\n",
        "ax[2,0].set_title(\"Control B Losses\", fontsize=10)\n",
        "ax[2,0].set_xlabel(\"Iterations\", fontsize=10)\n",
        "ax[2,0].set_ylabel(\"Loss Value\", fontsize=8)\n",
        "\n",
        "ax[2,2].plot(torch.arange(0, EPOCHS), controlB_accuracies)\n",
        "ax[2,2].set_title(\"Control B Accuracy %\", fontsize=10)\n",
        "ax[2,2].set_xlabel(\"Epochs\", fontsize=10)\n",
        "ax[2,2].set_ylabel(\"Accuracy (%)\", fontsize=8)\n",
        "\n",
        "ax[2,4].plot(torch.arange(0, iters), controlB_gradients)\n",
        "ax[2,4].yaxis.set_major_formatter(FuncFormatter(control_fmt))\n",
        "ax[2,4].set_title(\"Control B Gradients\", fontsize=10)\n",
        "ax[2,4].set_xlabel(\"Iterations\", fontsize=10)\n",
        "ax[2,4].set_ylabel(\"Grads Avg\", fontsize=8)\n",
        "\n",
        "ax[4,0].plot(torch.arange(0, iters), attention_losses)\n",
        "ax[4,0].set_title(\"Attention Losses\", fontsize=10)\n",
        "ax[4,0].set_xlabel(\"Iterations\", fontsize=10)\n",
        "ax[4,0].set_ylabel(\"Loss Value\", fontsize=8)\n",
        "\n",
        "ax[4,2].plot(torch.arange(0, EPOCHS), attention_accuracies)\n",
        "ax[4,2].set_title(\"Attention Accuracy %\", fontsize=10)\n",
        "ax[4,2].set_xlabel(\"Epochs\", fontsize=10)\n",
        "ax[4,2].set_ylabel(\"Accuracy (%)\", fontsize=8)\n",
        "\n",
        "ax[4,4].plot(torch.arange(0, iters), attention_gradients)\n",
        "ax[4,4].yaxis.set_major_formatter(FuncFormatter(attention_fmt))\n",
        "ax[4,4].set_title(\"Attention Gradients\", fontsize=10)\n",
        "ax[4,4].set_xlabel(\"Iterations\", fontsize=10)\n",
        "ax[4,4].set_ylabel(\"Grads Avg\", fontsize=8)\n",
        "\n",
        "#fig.tight_layout()\n",
        "fig.suptitle(\" \")\n",
        "\n",
        "#fig.savefig(\"/content/drive/MyDrive/Colab Notebooks/Images/Comparison_MNIST.png\")\n",
        "#fig.savefig(\"/content/drive/MyDrive/Colab Notebooks/Images/Comparison_ModelA.png\")\n",
        "fig.savefig(\"Comparison_C.png\")"
      ]
    },
    {
      "cell_type": "code",
      "source": [
        "print(attention_gradients.max())\n",
        "print(attention_gradients.mean())"
      ],
      "metadata": {
        "colab": {
          "base_uri": "https://localhost:8080/"
        },
        "id": "dSjaASonrHQh",
        "outputId": "1628088c-8640-4bf7-ed05-2fcf2acde711"
      },
      "execution_count": null,
      "outputs": [
        {
          "output_type": "stream",
          "name": "stdout",
          "text": [
            "2.1124948e-05\n",
            "1.5118502e-06\n"
          ]
        }
      ]
    },
    {
      "cell_type": "markdown",
      "metadata": {
        "id": "L-0quJkSvXTp"
      },
      "source": [
        "# Visualizing Outputs"
      ]
    },
    {
      "cell_type": "code",
      "execution_count": null,
      "metadata": {
        "id": "IkxuQc0MvVxN"
      },
      "outputs": [],
      "source": [
        "class VisualAttentionLayer(nn.Module):\n",
        "\n",
        "    '''\n",
        "    Applies the MultiHead Attention Arrays\n",
        "    '''\n",
        "\n",
        "    def __init__(self, n_heads, input_channels, input_width, input_height):\n",
        "\n",
        "        self.n_heads = n_heads\n",
        "\n",
        "        super(VisualAttentionLayer, self).__init__()\n",
        "\n",
        "        self.attention_heads = torch.nn.ModuleList([HeadAttention(input_channels, input_width, input_height) for i in range(n_heads)])\n",
        "        self.convattention = nn.Conv2d(input_channels*n_heads, input_channels, 3, 1, 1, bias=True)\n",
        "        self.batchnorm = nn.BatchNorm2d(input_channels)\n",
        "\n",
        "        self.Relu = nn.ReLU()\n",
        "\n",
        "    def forward(self, input):\n",
        "\n",
        "        attention_output = []\n",
        "\n",
        "        for head in range(self.n_heads):\n",
        "\n",
        "            x = self.attention_heads[head](input)\n",
        "\n",
        "            attention_output.append(x)\n",
        "\n",
        "            del x\n",
        "\n",
        "        attention_output_preconv = torch.cat(attention_output, 1) # (Batch, n_channels*n_heads, Height, Width)\n",
        "\n",
        "        attention_output_postconv = self.convattention(attention_output_preconv) # (Batch, n_channels, Height, Width)\n",
        "\n",
        "        attention_output_prenorm = input + attention_output_postconv # (Batch, n_channels, Height, Width)\n",
        "        #attention_output_prenorm = torch.zeros_like(attention_output_prenorm, device=device)\n",
        "\n",
        "        attention_output_postnorm = self.batchnorm(attention_output_prenorm)\n",
        "        #attention_output_postnorm = torch.zeros_like(attention_output_prenorm, device=device)\n",
        "\n",
        "        #attention_output = self.Relu(attention_output_postnorm)\n",
        "        attention_output = self.Relu(attention_output_prenorm)\n",
        "        #attention_output = self.Relu(attention_output_postconv)\n",
        "\n",
        "        return attention_output, attention_output_preconv, attention_output_postconv, attention_output_prenorm, attention_output_postnorm"
      ]
    },
    {
      "cell_type": "code",
      "execution_count": null,
      "metadata": {
        "id": "6iEfL392vF-5"
      },
      "outputs": [],
      "source": [
        "class VisualModel(nn.Module):\n",
        "    '''\n",
        "    Attention Classifier\n",
        "    '''\n",
        "    def __init__(self, n_heads):\n",
        "        super(VisualModel, self).__init__()\n",
        "\n",
        "        self.attention1 = VisualAttentionLayer(n_heads, 1, 28, 28)\n",
        "        self.attention2 = VisualAttentionLayer(n_heads, 1, 28, 28)\n",
        "        '''self.attention3 = VisualAttentionLayer(n_heads, 1, 28, 28)\n",
        "        self.attention4 = VisualAttentionLayer(n_heads, 1, 28, 28)'''\n",
        "        self.neuron_out = nn.Linear(1*28*28, 10, bias=True)\n",
        "\n",
        "        #self.sigmoid = nn.Sigmoid() # ---> Included in BCEWithLogits (in log version)\n",
        "\n",
        "    def forward(self, input):\n",
        "\n",
        "        attention_output1, attention_output_preconv1, attention_output_postconv1, attention_output_prenorm1, attention_output_postnorm1 = self.attention1(input)\n",
        "        attention_output2, attention_output_preconv2, attention_output_postconv2, attention_output_prenorm2, attention_output_postnorm2 = self.attention2(attention_output1)\n",
        "        '''attention_output3, attention_output_preconv3, attention_output_postconv3, attention_output_prenorm3, attention_output_postnorm3 = self.attention3(attention_output2)\n",
        "        attention_output4, attention_output_preconv4, attention_output_postconv4, attention_output_prenorm4, attention_output_postnorm4 = self.attention4(attention_output3)'''\n",
        "\n",
        "        x = attention_output2.view(attention_output2.size(0), -1)\n",
        "\n",
        "        output = self.neuron_out(x)\n",
        "\n",
        "        #output = self.sigmoid(x)\n",
        "\n",
        "        out1 = (attention_output1, attention_output_preconv1, attention_output_postconv1, attention_output_prenorm1, attention_output_postnorm1)\n",
        "        out2 = (attention_output2, attention_output_preconv2, attention_output_postconv2, attention_output_prenorm2, attention_output_postnorm2)\n",
        "        #out3 = (attention_output3, attention_output_preconv3, attention_output_postconv3, attention_output_prenorm3, attention_output_postnorm3)\n",
        "        #out4 = (attention_output4, attention_output_preconv4, attention_output_postconv4, attention_output_prenorm4, attention_output_postnorm4)\n",
        "\n",
        "        return output, out1, out2#, out3, out4"
      ]
    },
    {
      "cell_type": "code",
      "execution_count": null,
      "metadata": {
        "id": "h4iL3INeu7EH"
      },
      "outputs": [],
      "source": [
        "visual_model = VisualModel(8).to(device)\n",
        "\n",
        "#visual_model.load_state_dict(torch.load(\"/content/drive/MyDrive/Colab Notebooks/AttentionTestParameters/Attention_params_MNIST_lowLR_woBN.tar\")) # This one only loads weights for Convs and BatchNorm\n",
        "visual_model.load_state_dict(attention_model.state_dict())\n",
        "\n",
        "for attention_head in range(8):\n",
        "\n",
        "    visual_model.attention1.attention_heads[attention_head].x_weights = attention_model.attention1.attention_heads[attention_head].x_weights\n",
        "    visual_model.attention1.attention_heads[attention_head].y_weights = attention_model.attention1.attention_heads[attention_head].y_weights\n",
        "    visual_model.attention2.attention_heads[attention_head].x_weights = attention_model.attention2.attention_heads[attention_head].x_weights\n",
        "    visual_model.attention2.attention_heads[attention_head].y_weights = attention_model.attention2.attention_heads[attention_head].y_weights\n",
        "    '''visual_model.attention3.attention_heads[attention_head].x_weights = attention_model.attention3.attention_heads[attention_head].x_weights\n",
        "    visual_model.attention3.attention_heads[attention_head].y_weights = attention_model.attention3.attention_heads[attention_head].y_weights\n",
        "    visual_model.attention4.attention_heads[attention_head].x_weights = attention_model.attention4.attention_heads[attention_head].x_weights\n",
        "    visual_model.attention4.attention_heads[attention_head].y_weights = attention_model.attention4.attention_heads[attention_head].y_weights'''"
      ]
    },
    {
      "cell_type": "code",
      "execution_count": null,
      "metadata": {
        "id": "wsy1OiOWw2Io"
      },
      "outputs": [],
      "source": [
        "def to_numpy(tensor):\n",
        "\n",
        "    tensor = tensor.permute(0, 2, 3, 1)\n",
        "    tensor = tensor.detach().cpu().numpy()\n",
        "    tensor = (tensor+1.0)*0.5\n",
        "\n",
        "    return tensor"
      ]
    },
    {
      "cell_type": "code",
      "execution_count": null,
      "metadata": {
        "id": "yv794b4Yw92O"
      },
      "outputs": [],
      "source": [
        "def visualize_outputs(model, image):\n",
        "\n",
        "    model.eval()\n",
        "\n",
        "    _, out1, out2 = model(image)\n",
        "\n",
        "    image = to_numpy(image)\n",
        "\n",
        "    attention_output1, attention_output1_preconv, attention_output1_postconv = to_numpy(out1[0]), to_numpy(out1[1]), to_numpy(out1[2])\n",
        "    attention_output1_prenorm, attention_output1_postnorm = to_numpy(out1[3]), to_numpy(out1[4])\n",
        "\n",
        "    attention_output2, attention_output2_preconv, attention_output2_postconv = to_numpy(out2[0]), to_numpy(out2[1]), to_numpy(out1[2])\n",
        "    attention_output2_prenorm, attention_output2_postnorm = to_numpy(out2[3]), to_numpy(out2[4])\n",
        "\n",
        "    '''attention_output3, attention_output3_preconv, attention_output3_postconv = to_numpy(out3[0]), to_numpy(out3[1]), to_numpy(out1[2])\n",
        "    attention_output3_prenorm, attention_output3_postnorm = to_numpy(out3[3]), to_numpy(out3[4])\n",
        "\n",
        "    attention_output4, attention_output4_preconv, attention_output4_postconv = to_numpy(out4[0]), to_numpy(out4[1]), to_numpy(out1[2])\n",
        "    attention_output4_prenorm, attention_output4_postnorm = to_numpy(out4[3]), to_numpy(out4[4])'''\n",
        "\n",
        "    plt.imshow(image[0].squeeze(-1), cmap='gray') # Matplotlib expects a channel dimension with 3 or 4 channels, not 1.\n",
        "    plt.title(\"Input Image\")\n",
        "    plt.axis(\"off\")\n",
        "    plt.savefig(\"Input_image.png\")\n",
        "    plt.show()\n",
        "    #plt.savefig(\"/content/drive/MyDrive/Colab Notebooks/Images/Input_image_4layers_wBN16heads.png\")\n",
        "\n",
        "    fig, ax = plt.subplots(7, 9)\n",
        "\n",
        "    for x in range(7):\n",
        "        for y in range(9):\n",
        "            ax[x,y].axis(\"off\")\n",
        "\n",
        "    ax[0, 0].imshow(attention_output1_preconv[0, :, :, 0], cmap='gray') # Attention: This one's shape is (Batch, Height, Width, n_heads*n_channels)\n",
        "    ax[0, 0].set_title(\"Before Conv\")\n",
        "    ax[0, 2].imshow(attention_output1_postconv[0].squeeze(-1), cmap='gray')\n",
        "    ax[0, 2].set_title(\"After Conv\")\n",
        "    ax[0, 4].imshow(attention_output1_prenorm[0].squeeze(-1), cmap='gray')\n",
        "    ax[0, 4].set_title(\"Before Norm\")\n",
        "    ax[0, 6].imshow(attention_output1_postnorm[0].squeeze(-1), cmap='gray')\n",
        "    ax[0, 6].set_title(\"After Norm\")\n",
        "    ax[0, 8].imshow(attention_output1[0].squeeze(-1), cmap='gray')\n",
        "    ax[0, 8].set_title(\"Final Output\")\n",
        "    ax[2, 0].imshow(attention_output2_preconv[0, :, :, 0], cmap='gray')\n",
        "    ax[2, 2].imshow(attention_output2_postconv[0].squeeze(-1), cmap='gray')\n",
        "    ax[2, 4].imshow(attention_output2_prenorm[0].squeeze(-1), cmap='gray')\n",
        "    ax[2, 6].imshow(attention_output2_postnorm[0].squeeze(-1), cmap='gray')\n",
        "    ax[2, 8].imshow(attention_output2[0].squeeze(-1), cmap='gray')\n",
        "    '''ax[4, 0].imshow(attention_output3_preconv[0, :, :, 0], cmap='gray')\n",
        "    ax[4, 2].imshow(attention_output3_postconv[0].squeeze(-1), cmap='gray')\n",
        "    ax[4, 4].imshow(attention_output3_prenorm[0].squeeze(-1), cmap='gray')\n",
        "    ax[4, 6].imshow(attention_output3_postnorm[0].squeeze(-1), cmap='gray')\n",
        "    ax[4, 8].imshow(attention_output3_prenorm[0].squeeze(-1), cmap='gray')\n",
        "    ax[6, 0].imshow(attention_output4_preconv[0, :, :, 0], cmap='gray')\n",
        "    ax[6, 2].imshow(attention_output4_postconv[0].squeeze(-1), cmap='gray')\n",
        "    ax[6, 4].imshow(attention_output4_prenorm[0].squeeze(-1), cmap='gray')\n",
        "    ax[6, 6].imshow(attention_output4_postnorm[0].squeeze(-1), cmap='gray')\n",
        "    ax[6, 8].imshow(attention_output4[0].squeeze(-1), cmap='gray')'''\n",
        "\n",
        "    print(\"ATTENTION LAYER 1\")\n",
        "    print(attention_output1_preconv[0, :, :, 0].mean(), attention_output1_preconv[0, :, :, 0].std())\n",
        "    print(attention_output1_postconv[0].mean(), attention_output1_postconv[0].std())\n",
        "    print(attention_output1_prenorm[0].mean(), attention_output1_prenorm[0].std())\n",
        "    print(attention_output1_postnorm[0].mean(), attention_output1_postnorm[0].std())\n",
        "    print(attention_output1[0].mean(), attention_output1[0].std())\n",
        "\n",
        "    print(\"ATTENTION LAYER 2\")\n",
        "    print(attention_output2_preconv[0, :, :, 0].mean(), attention_output2_preconv[0, :, :, 0].std())\n",
        "    print(attention_output2_postconv[0].mean(), attention_output2_postconv[0].std())\n",
        "    print(attention_output2_prenorm[0].mean(), attention_output2_prenorm[0].std())\n",
        "    print(attention_output2_postnorm[0].mean(), attention_output2_postnorm[0].std())\n",
        "    print(attention_output2[0].mean(), attention_output2[0].std())\n",
        "\n",
        "    #fig.savefig(\"/content/drive/MyDrive/Colab Notebooks/Images/Outputs_4layers_lowLR_wBN16heads.png\")\n",
        "    fig.savefig(\"Outputs_A.png\")\n",
        "    plt.show()"
      ]
    },
    {
      "cell_type": "code",
      "execution_count": null,
      "metadata": {
        "id": "Z22ZWHpbo8ru"
      },
      "outputs": [],
      "source": [
        "image, idx = train_loader.dataset[0]\n",
        "\n",
        "image = image.to(device).unsqueeze(0)"
      ]
    },
    {
      "cell_type": "code",
      "execution_count": null,
      "metadata": {
        "colab": {
          "base_uri": "https://localhost:8080/",
          "height": 1000
        },
        "id": "M7GZVd3Yx81N",
        "outputId": "02398abf-f5e3-4bcd-e35b-9402372a1129"
      },
      "outputs": [
        {
          "output_type": "display_data",
          "data": {
            "text/plain": [
              "<Figure size 640x480 with 1 Axes>"
            ],
            "image/png": "[encoded data removed]"
          },
          "metadata": {}
        },
        {
          "output_type": "stream",
          "name": "stdout",
          "text": [
            "ATTENTION LAYER 1\n",
            "0.5700981 0.09055234\n",
            "0.6222174 0.045107163\n",
            "0.8129112 0.20908952\n",
            "0.81290966 0.20908847\n",
            "0.8129534 0.209023\n",
            "ATTENTION LAYER 2\n",
            "0.615959 0.15630329\n",
            "0.6222174 0.045107163\n",
            "1.3063334 0.77699834\n",
            "1.3063294 0.77699435\n",
            "1.3063334 0.77699834\n"
          ]
        },
        {
          "output_type": "display_data",
          "data": {
            "text/plain": [
              "<Figure size 640x480 with 63 Axes>"
            ],
            "image/png": "[encoded data removed]"
          },
          "metadata": {}
        }
      ],
      "source": [
        "visualize_outputs(visual_model, image)"
      ]
    },
    {
      "cell_type": "markdown",
      "metadata": {
        "id": "6LymDeVqJoMC"
      },
      "source": [
        "From the visualization, we can come to the conclusion that the Attention Layer indeed tries to predict the most relevant features in the image. However, the BatchNormalization layer, due to its operation, ends up undoing the Attention Layer job.\n",
        "\n",
        "\n",
        "It might be interesting to notice that the Attention Layer output provides more details and less blur than before being passed through the Convolution Layer."
      ]
    },
    {
      "cell_type": "code",
      "execution_count": null,
      "metadata": {
        "colab": {
          "base_uri": "https://localhost:8080/"
        },
        "id": "sO1_JdzMYps6",
        "outputId": "081e029c-8457-466a-b3bc-08e65ff70598"
      },
      "outputs": [
        {
          "output_type": "stream",
          "name": "stdout",
          "text": [
            "tensor(0.9993, device='cuda:0', grad_fn=<MeanBackward0>) tensor(0.0808, device='cuda:0', grad_fn=<StdBackward0>)\n",
            "tensor(1.0027, device='cuda:0', grad_fn=<MeanBackward0>) tensor(0.0808, device='cuda:0', grad_fn=<StdBackward0>)\n",
            "tensor(1.0085, device='cuda:0', grad_fn=<MeanBackward0>) tensor(0.0668, device='cuda:0', grad_fn=<StdBackward0>)\n",
            "tensor(1.0123, device='cuda:0', grad_fn=<MeanBackward0>) tensor(0.0668, device='cuda:0', grad_fn=<StdBackward0>)\n"
          ]
        }
      ],
      "source": [
        "# Checking if the attention layer isn't just reproducing the input\n",
        "\n",
        "print(attention_model.attention1.attention_heads[0].x_weights.mean(), attention_model.attention1.attention_heads[0].x_weights.std())\n",
        "print(attention_model.attention1.attention_heads[0].y_weights.mean(), attention_model.attention1.attention_heads[0].x_weights.std())\n",
        "print(attention_model.attention2.attention_heads[0].x_weights.mean(), attention_model.attention2.attention_heads[0].x_weights.std())\n",
        "print(attention_model.attention2.attention_heads[0].y_weights.mean(), attention_model.attention2.attention_heads[0].x_weights.std())"
      ]
    },
    {
      "cell_type": "code",
      "execution_count": null,
      "metadata": {
        "id": "o9d3UQrzaYjF"
      },
      "outputs": [],
      "source": [
        "attention_model = AttentionModel(1).to(device)"
      ]
    },
    {
      "cell_type": "code",
      "execution_count": null,
      "metadata": {
        "id": "4np41RApKr2S"
      },
      "outputs": [],
      "source": [
        "# Treinando apenas o Attention Model\n",
        "\n",
        "weights_init(attention_model)\n",
        "\n",
        "EPOCHS = 10\n",
        "iters = 0.\n",
        "\n",
        "train_loader = torch.utils.data.DataLoader(train_data, batch_size=4096, shuffle=True)\n",
        "test_loader = torch.utils.data.DataLoader(test_data, batch_size=4096, shuffle=True)\n",
        "optimizer_attention = torch.optim.Adam(attention_model.parameters(), lr=1e-3, betas=(0.9, 0.999))\n",
        "attention_losses = []\n",
        "attention_accuracies = []\n",
        "\n",
        "attention_gradients = []"
      ]
    },
    {
      "cell_type": "code",
      "execution_count": null,
      "metadata": {
        "colab": {
          "base_uri": "https://localhost:8080/"
        },
        "id": "rQxR3rZ6K4Ks",
        "outputId": "ed3058c9-16fa-47b4-b748-11ea3f93895e"
      },
      "outputs": [
        {
          "output_type": "stream",
          "name": "stdout",
          "text": [
            "1/10\n",
            "Attention Model Loss: 26.909000039100647\tAttention Model Accuracy: 64.44000244140625\n",
            "Attention Gradients: -1.2574955121635867e-07\n",
            "2/10\n",
            "Attention Model Loss: 17.630411982536316\tAttention Model Accuracy: 67.31999969482422\n",
            "Attention Gradients: -5.133739477969357e-07\n",
            "3/10\n",
            "Attention Model Loss: 14.103488385677338\tAttention Model Accuracy: 70.84000396728516\n",
            "Attention Gradients: -1.0006890533986734e-06\n",
            "4/10\n",
            "Attention Model Loss: 12.396486759185791\tAttention Model Accuracy: 73.05999755859375\n",
            "Attention Gradients: -1.7219334722540225e-06\n",
            "5/10\n",
            "Attention Model Loss: 11.299434423446655\tAttention Model Accuracy: 75.33999633789062\n",
            "Attention Gradients: -2.509498017388978e-06\n",
            "6/10\n",
            "Attention Model Loss: 10.47182184457779\tAttention Model Accuracy: 77.04000091552734\n",
            "Attention Gradients: -2.9303078008524608e-06\n",
            "7/10\n",
            "Attention Model Loss: 9.787211537361145\tAttention Model Accuracy: 78.1500015258789\n",
            "Attention Gradients: -3.5284681416669628e-06\n",
            "8/10\n",
            "Attention Model Loss: 9.198819816112518\tAttention Model Accuracy: 79.2199935913086\n",
            "Attention Gradients: -2.847963287422317e-06\n",
            "9/10\n",
            "Attention Model Loss: 8.719020009040833\tAttention Model Accuracy: 79.6199951171875\n",
            "Attention Gradients: -4.127477041038219e-06\n",
            "10/10\n",
            "Attention Model Loss: 8.327404081821442\tAttention Model Accuracy: 80.2199935913086\n",
            "Attention Gradients: -4.410274414112791e-06\n"
          ]
        }
      ],
      "source": [
        "for epoch in range(EPOCHS):\n",
        "\n",
        "    attention_epoch_loss = 0.\n",
        "\n",
        "    for item, (image, target) in enumerate(train_loader):\n",
        "\n",
        "        attention_model.zero_grad()\n",
        "\n",
        "        image, target = image.to(device), target.to(device)\n",
        "\n",
        "        attention_output = attention_model(image)\n",
        "\n",
        "        attention_loss = loss(attention_output, target)\n",
        "\n",
        "        attention_losses.append(attention_loss.item())\n",
        "\n",
        "        attention_epoch_loss += attention_loss.item()\n",
        "\n",
        "        attention_loss.backward()\n",
        "\n",
        "        attention_gradients_avg = torch.mean(attention_model.attention1.attention_heads[0].x_weights.grad)\n",
        "        attention_gradients.append(attention_gradients_avg.cpu())\n",
        "\n",
        "        optimizer_attention.step()\n",
        "\n",
        "        iters += 1\n",
        "\n",
        "    if epoch % 1 == 0:\n",
        "\n",
        "        total = 0.\n",
        "        correct_attention = 0.\n",
        "\n",
        "        for item, (image, target) in enumerate(test_loader):\n",
        "\n",
        "            image, target = image.to(device), target.to(device)\n",
        "\n",
        "            with torch.no_grad():\n",
        "                attention_output = attention_model(image)\n",
        "\n",
        "            total += len(target)\n",
        "\n",
        "            _, attention_output = torch.max(attention_output, 1)\n",
        "\n",
        "            correct_attention += (attention_output == target).sum()\n",
        "\n",
        "        attention_accuracy = (correct_attention/total)*100\n",
        "        attention_accuracies.append(attention_accuracy.cpu())\n",
        "\n",
        "        print(f\"{epoch+1}/{EPOCHS}\")\n",
        "        print(f\"Attention Model Loss: {attention_epoch_loss}\\tAttention Model Accuracy: {attention_accuracy}\")\n",
        "        print(f\"Attention Gradients: {attention_gradients[-1]}\")"
      ]
    },
    {
      "cell_type": "code",
      "execution_count": null,
      "metadata": {
        "id": "CAqp9VLdbelg"
      },
      "outputs": [],
      "source": [
        "for epoch in range(EPOCHS):\n",
        "\n",
        "    attention_epoch_loss = 0.\n",
        "\n",
        "    for item, (image, target) in enumerate(train_loader):\n",
        "\n",
        "        attention_model.zero_grad()\n",
        "\n",
        "        image, target = image.to(device), target.to(device)\n",
        "\n",
        "        attention_output = attention_model(image)\n",
        "\n",
        "        attention_loss = loss(attention_output, target)\n",
        "\n",
        "        attention_losses.append(attention_loss.item())\n",
        "\n",
        "        attention_epoch_loss += attention_loss.item()\n",
        "\n",
        "        attention_loss.backward()\n",
        "\n",
        "        attention_gradients_avg = torch.mean(attention_model.attention1[0].x_weights.grad)\n",
        "        attention_gradients.append(attention_gradients_avg.cpu())\n",
        "\n",
        "        optimizer_attention.step()\n",
        "\n",
        "        iters += 1\n",
        "\n",
        "    if epoch % 1 == 0:\n",
        "\n",
        "        total = 0.\n",
        "        correct_attention = 0.\n",
        "\n",
        "        for item, (image, target) in enumerate(test_loader):\n",
        "\n",
        "            image, target = image.to(device), target.to(device)\n",
        "\n",
        "            with torch.no_grad():\n",
        "                attention_output = attention_model(image)\n",
        "\n",
        "            total += len(target)\n",
        "\n",
        "            _, attention_output = torch.max(attention_output, 1)\n",
        "\n",
        "            correct_attention += (attention_output == target).sum()\n",
        "\n",
        "        attention_accuracy = (correct_attention/total)*100\n",
        "        attention_accuracies.append(attention_accuracy.cpu())\n",
        "\n",
        "\n",
        "        print(f\"{epoch+1}/{EPOCHS}\")\n",
        "        print(f\"Attention Model Loss: {attention_epoch_loss}\\tAttention Model Accuracy: {attention_accuracy}\")\n",
        "        print(f\"Attention Gradients: {attention_gradients[-1]}\")"
      ]
    },
    {
      "cell_type": "code",
      "execution_count": null,
      "metadata": {
        "colab": {
          "base_uri": "https://localhost:8080/",
          "height": 499
        },
        "id": "yB4S7RslW3d5",
        "outputId": "07e6f0e6-ae76-4848-9540-c9d76b9feb54"
      },
      "outputs": [
        {
          "output_type": "error",
          "ename": "AttributeError",
          "evalue": "ignored",
          "traceback": [
            "\u001b[0;31m---------------------------------------------------------------------------\u001b[0m",
            "\u001b[0;31mAttributeError\u001b[0m                            Traceback (most recent call last)",
            "\u001b[0;32m<ipython-input-23-03967390b431>\u001b[0m in \u001b[0;36m<module>\u001b[0;34m\u001b[0m\n\u001b[1;32m      7\u001b[0m \u001b[0max\u001b[0m\u001b[0;34m[\u001b[0m\u001b[0;36m0\u001b[0m\u001b[0;34m]\u001b[0m\u001b[0;34m.\u001b[0m\u001b[0mset_xlabel\u001b[0m\u001b[0;34m(\u001b[0m\u001b[0;34m\"Iterations\"\u001b[0m\u001b[0;34m,\u001b[0m \u001b[0mfontsize\u001b[0m\u001b[0;34m=\u001b[0m\u001b[0;36m12\u001b[0m\u001b[0;34m)\u001b[0m\u001b[0;34m\u001b[0m\u001b[0;34m\u001b[0m\u001b[0m\n\u001b[1;32m      8\u001b[0m \u001b[0max\u001b[0m\u001b[0;34m[\u001b[0m\u001b[0;36m0\u001b[0m\u001b[0;34m]\u001b[0m\u001b[0;34m.\u001b[0m\u001b[0mset_ylabel\u001b[0m\u001b[0;34m(\u001b[0m\u001b[0;34m\"Loss Value\"\u001b[0m\u001b[0;34m,\u001b[0m \u001b[0mfontsize\u001b[0m\u001b[0;34m=\u001b[0m\u001b[0;36m12\u001b[0m\u001b[0;34m)\u001b[0m\u001b[0;34m\u001b[0m\u001b[0;34m\u001b[0m\u001b[0m\n\u001b[0;32m----> 9\u001b[0;31m \u001b[0max\u001b[0m\u001b[0;34m[\u001b[0m\u001b[0;36m0\u001b[0m\u001b[0;34m]\u001b[0m\u001b[0;34m.\u001b[0m\u001b[0mlocator_param\u001b[0m\u001b[0;34m(\u001b[0m\u001b[0mnbins\u001b[0m\u001b[0;34m=\u001b[0m\u001b[0;36m10\u001b[0m\u001b[0;34m)\u001b[0m\u001b[0;34m\u001b[0m\u001b[0;34m\u001b[0m\u001b[0m\n\u001b[0m\u001b[1;32m     10\u001b[0m \u001b[0;31m#ax[0,1].plot(torch.arange(0, EPOCHS), control_accuracies)\u001b[0m\u001b[0;34m\u001b[0m\u001b[0;34m\u001b[0m\u001b[0m\n\u001b[1;32m     11\u001b[0m \u001b[0;31m#ax[0,1].set_title(\"Control Accuracy %\")\u001b[0m\u001b[0;34m\u001b[0m\u001b[0;34m\u001b[0m\u001b[0m\n",
            "\u001b[0;31mAttributeError\u001b[0m: 'Axes' object has no attribute 'locator_param'"
          ]
        },
        {
          "output_type": "display_data",
          "data": {
            "text/plain": [
              "<Figure size 432x288 with 5 Axes>"
            ],
            "image/png": "[encoded data removed]"
          },
          "metadata": {
            "needs_background": "light"
          }
        }
      ],
      "source": [
        "fig, ax = plt.subplots(5,1)\n",
        "\n",
        "#ax[0,0].plot(torch.arange(0, iters), control_losses)\n",
        "#ax[0,0].set_title(\"Control Losses\")\n",
        "ax[0].plot(torch.arange(0, iters), attention_losses)\n",
        "ax[0].set_title(\"Attention Losses\")\n",
        "ax[0].set_xlabel(\"Iterations\", fontsize=12)\n",
        "ax[0].set_ylabel(\"Loss Value\", fontsize=12)\n",
        "#ax[0].locator_param(nbins=10)\n",
        "#ax[0,1].plot(torch.arange(0, EPOCHS), control_accuracies)\n",
        "#ax[0,1].set_title(\"Control Accuracy %\")\n",
        "ax[2].plot(torch.arange(0, EPOCHS), attention_accuracies)\n",
        "ax[2].set_title(\"Attention Accuracy %\")\n",
        "ax[2].set_xlabel(\"Epochs\", fontsize=12)\n",
        "ax[2].set_ylabel(\"Accuracy (%)\", fontsize=12)\n",
        "ax[2].locator_param(nbins=10)\n",
        "\n",
        "#ax[2,0].plot(torch.arange(0, iters), control_gradients)\n",
        "#ax[2,0].set_title(\"Control Gradients Average\")\n",
        "ax[4].plot(torch.arange(0, iters), attention_gradients)\n",
        "ax[4].set_title(\"Attention Gradients Average\")\n",
        "ax[4].set_xlabel(\"Iterations\", fontsize=12)\n",
        "ax[4].set_ylabel(\"Gradients Average\", fontsize=12)\n",
        "ax[4].locator_param(nbins=10)\n",
        "\n",
        "#fig.tight_layout()\n",
        "fig.suptitle(\"2 layers without Skip-Connection\")\n",
        "\n",
        "#fig.savefig(\"/content/drive/MyDrive/Colab Notebooks/Images/Comparison_MNIST_woBN.png\")\n",
        "fig.savefig(\"Comparison_MNIST_woSkip.png\")"
      ]
    },
    {
      "cell_type": "markdown",
      "metadata": {
        "id": "A-Z4wDvOynML"
      },
      "source": [
        "# Testing with Learning Rate = 0.1"
      ]
    },
    {
      "cell_type": "code",
      "execution_count": null,
      "metadata": {
        "id": "ybn3LXNAu7G8"
      },
      "outputs": [],
      "source": [
        "# Treinando apenas o Attention Model, com LR = 0.1\n",
        "\n",
        "weights_init(attention_model)\n",
        "\n",
        "EPOCHS = 10\n",
        "#EPOCHS = 5 # For plotting outputs ---> 5~8 Epochs provide the best accuracy\n",
        "iters = 0.\n",
        "\n",
        "train_loader = torch.utils.data.DataLoader(train_data, batch_size=4096, shuffle=True)\n",
        "test_loader = torch.utils.data.DataLoader(test_data, batch_size=4096, shuffle=True)\n",
        "optimizer_attention = torch.optim.Adam(attention_model.parameters(), lr=1e-1, betas=(0.9, 0.999))\n",
        "attention_losses = []\n",
        "attention_accuracies = []\n",
        "\n",
        "attention_gradients = []"
      ]
    },
    {
      "cell_type": "code",
      "execution_count": null,
      "metadata": {
        "colab": {
          "base_uri": "https://localhost:8080/"
        },
        "id": "K9xsDnb0u7Jg",
        "outputId": "ecfdcc33-8c0b-4f56-f67f-6e5a4b90f215"
      },
      "outputs": [
        {
          "name": "stdout",
          "output_type": "stream",
          "text": [
            "1/10\n",
            "Attention Model Loss: 37.89224910736084\tAttention Model Accuracy: 9.999999046325684\n",
            "Attention Gradients: 6.108089564804686e-06\n",
            "2/10\n",
            "Attention Model Loss: 34.57592797279358\tAttention Model Accuracy: 9.999999046325684\n",
            "Attention Gradients: 6.108089564804686e-06\n",
            "3/10\n",
            "Attention Model Loss: 34.550442934036255\tAttention Model Accuracy: 9.999999046325684\n",
            "Attention Gradients: 6.108089564804686e-06\n",
            "4/10\n",
            "Attention Model Loss: 34.54980516433716\tAttention Model Accuracy: 9.999999046325684\n",
            "Attention Gradients: 6.108089564804686e-06\n",
            "5/10\n",
            "Attention Model Loss: 34.54602837562561\tAttention Model Accuracy: 9.999999046325684\n",
            "Attention Gradients: 6.108089564804686e-06\n"
          ]
        }
      ],
      "source": [
        "for epoch in range(EPOCHS):\n",
        "\n",
        "    attention_epoch_loss = 0.\n",
        "\n",
        "    for item, (image, target) in enumerate(train_loader):\n",
        "\n",
        "        attention_model.zero_grad()\n",
        "\n",
        "        image, target = image.to(device), target.to(device)\n",
        "\n",
        "        attention_output = attention_model(image)\n",
        "\n",
        "        attention_loss = loss(attention_output, target)\n",
        "\n",
        "        attention_losses.append(attention_loss.item())\n",
        "\n",
        "        attention_epoch_loss += attention_loss.item()\n",
        "\n",
        "        attention_loss.backward()\n",
        "\n",
        "        attention_gradients_avg = torch.mean(attention_model.attention1.attention_heads[0].x_weights.grad)\n",
        "        attention_gradients.append(attention_gradients_avg.cpu())\n",
        "\n",
        "        optimizer_attention.step()\n",
        "\n",
        "        iters += 1\n",
        "\n",
        "    if epoch % 1 == 0:\n",
        "\n",
        "        total = 0.\n",
        "        correct_attention = 0.\n",
        "\n",
        "        for item, (image, target) in enumerate(test_loader):\n",
        "\n",
        "            image, target = image.to(device), target.to(device)\n",
        "\n",
        "            with torch.no_grad():\n",
        "                attention_output = attention_model(image)\n",
        "\n",
        "            total += len(target)\n",
        "\n",
        "            _, attention_output = torch.max(attention_output, 1)\n",
        "\n",
        "            correct_attention += (attention_output == target).sum()\n",
        "\n",
        "        attention_accuracy = (correct_attention/total)*100\n",
        "        attention_accuracies.append(attention_accuracy.cpu())\n",
        "\n",
        "\n",
        "        print(f\"{epoch+1}/{EPOCHS}\")\n",
        "        print(f\"Attention Model Loss: {attention_epoch_loss}\\tAttention Model Accuracy: {attention_accuracy}\")\n",
        "        print(f\"Attention Gradients: {attention_gradients[-1]}\")"
      ]
    },
    {
      "cell_type": "markdown",
      "metadata": {
        "id": "viNeFMXbEdrl"
      },
      "source": [
        "# Models' Performance - 10 Epochs - LR = 0.1 ---> Collapse, just like the COntrol model\n",
        "\n",
        "## Control Model:\n",
        "\n",
        "Loss = 4.5083\n",
        "\n",
        "Accuracy = 88.2900\n",
        "\n",
        "Last Gradients = 0.0020296266302466393\n",
        "\n",
        "### Attention Model - 2 layers, 8 heads, with BatchNorm\n",
        "\n",
        "Loss = 34.5506\n",
        "\n",
        "Accuracy = 9.9999\n",
        "\n",
        "Last Gradients = -0.0001\n",
        "\n",
        "### Attention Model - 2 layers, 8 heads, WITHOUT BatchNorm\n",
        "\n",
        "Loss = 34.5452\n",
        "\n",
        "Accuracy = 9.9999\n",
        "\n",
        "Last Gradients = 0.0006\n",
        "\n",
        "### Attention Model - 2 layers, 16 heads, with Batchnorm\n",
        "\n",
        "Loss =\n",
        "\n",
        "Accuracy =\n",
        "\n",
        "Last Gradients =\n",
        "\n",
        "### Attention Model - 2 layers, 16 heads, WITHOUT BatchNorm\n",
        "\n",
        "Loss = 34.5460\n",
        "\n",
        "Accuracy = 9.9999\n",
        "\n",
        "Last Gradients = 6.1080e-6"
      ]
    },
    {
      "cell_type": "code",
      "execution_count": null,
      "metadata": {
        "id": "32y1JpzOu7L1"
      },
      "outputs": [],
      "source": [
        "fig, ax = plt.subplots(5,2)\n",
        "\n",
        "ax[0,0].plot(torch.arange(0, iters), control_losses)\n",
        "ax[0,0].set_title(\"Control Losses\")\n",
        "ax[0,1].plot(torch.arange(0, iters), attention_losses)\n",
        "ax[0,1].set_title(\"Attention Losses\")\n",
        "ax[2,0].plot(torch.arange(0, EPOCHS), control_accuracies)\n",
        "ax[2,0].set_title(\"Control Accuracy %\")\n",
        "ax[2,1].plot(torch.arange(0, EPOCHS), attention_accuracies)\n",
        "ax[2,1].set_title(\"Attention Accuracy %\")\n",
        "\n",
        "ax[4,0].plot(torch.arange(0, iters), control_gradients)\n",
        "ax[4,0].set_title(\"Control Gradients Average\")\n",
        "ax[4,1].plot(torch.arange(0, iters), attention_gradients)\n",
        "ax[4,1].set_title(\"Attention Gradients Average\")\n",
        "\n",
        "fig.tight_layout()\n",
        "fig.suptitle(\"Control LR = 1e-3 ; Attention LR = 1e-1\\nUsing 2 layers, 8 heads + BatchNorm\")\n",
        "\n",
        "fig.savefig(\"/content/drive/MyDrive/Colab Notebooks/Images/Comparison_MNIST.png\")"
      ]
    },
    {
      "cell_type": "markdown",
      "metadata": {
        "id": "Di2TTVgW2cp3"
      },
      "source": [
        "# Removing BatchNorm from attention layer"
      ]
    },
    {
      "cell_type": "code",
      "execution_count": null,
      "metadata": {
        "id": "_aKDymufu7Oa"
      },
      "outputs": [],
      "source": [
        "class HeadAttention(torch.nn.Module):\n",
        "\n",
        "    '''\n",
        "    Attention Layer might be useful to detect most relevant features in the images.\n",
        "\n",
        "    Adapted in order to be used with element-wise operations directly to images and feature maps.\n",
        "\n",
        "    There are weights for the rows(X axis) and for the columns(Y axis). Each weight is applied to the input first in the X axis and then in the Y axis.\n",
        "\n",
        "    At the end, the result is multiplied in order to get the proper array of weights, where aij = weight map\n",
        "\n",
        "    So each attention weight is something like this:\n",
        "\n",
        "      |Aij Bij Cij|\n",
        "      |Dij Eij Fij|, where Xij = weight x axis * weight y axis\n",
        "      |Gij Hij Iij|\n",
        "\n",
        "    Considering that the softmax function has outputs within range [0,1], we can conclude that each weight will be within range [0,1], where 1 is the most important feature.\n",
        "\n",
        "    OBS: This layer generates small gradients. When stacking too many layers, consider adding residual blocks and skip connections.\n",
        "    '''\n",
        "\n",
        "    def __init__(self, input_channels, input_width, input_height):\n",
        "\n",
        "        super(HeadAttention, self).__init__()\n",
        "\n",
        "        # Creating array of weights for element-wise operations\n",
        "        self.x_weights = torch.normal(0, 0.02, size=(input_channels, input_width, input_height), device=device, requires_grad=True)\n",
        "        self.y_weights = torch.normal(0, 0.02, size=(input_channels, input_width, input_height), device=device, requires_grad=True)\n",
        "\n",
        "        #self.batchnorm = torch.nn.BatchNorm2d(input_channels) # To compensate the lack of the sqrt(d_key) scaling factor\n",
        "\n",
        "        #self.softmax = torch.nn.Softmax2d() # Computes softmax over each channel\n",
        "        self.Xsoftmax = torch.nn.Softmax(-2)\n",
        "        self.Ysoftmax = torch.nn.Softmax(-1)\n",
        "\n",
        "    def forward(self, input):\n",
        "\n",
        "        attention_output = []\n",
        "\n",
        "        for batch in range(input.size(0)):\n",
        "\n",
        "            input_data = input[batch] # (Channels, Height, Width)\n",
        "\n",
        "            x_weights = input_data * self.x_weights\n",
        "            y_weights = input_data * self.y_weights\n",
        "\n",
        "            x_weights = self.Xsoftmax(x_weights)\n",
        "            y_weights = self.Ysoftmax(y_weights)\n",
        "\n",
        "            attention_weights = x_weights * y_weights # (Channels, Height, Width)\n",
        "\n",
        "            attention_output.append(attention_weights.unsqueeze(0)) # (1, Channels, Height, Width)\n",
        "\n",
        "        attention_output = torch.cat(attention_output, 0) # (Batch, Channels, Height, Width)\n",
        "\n",
        "        #attention_output = self.batchnorm(attention_output)\n",
        "\n",
        "        attention_output = input * attention_output # (Batch, Channels, Height, Width)\n",
        "\n",
        "        return attention_output"
      ]
    },
    {
      "cell_type": "code",
      "execution_count": null,
      "metadata": {
        "id": "f5hVAj0t1eDs"
      },
      "outputs": [],
      "source": [
        "class AttentionLayer(nn.Module):\n",
        "\n",
        "    '''\n",
        "    Applies the MultiHead Attention Arrays\n",
        "    '''\n",
        "\n",
        "    def __init__(self, n_heads, input_channels, input_width, input_height):\n",
        "\n",
        "        self.n_heads = n_heads\n",
        "\n",
        "        super(AttentionLayer, self).__init__()\n",
        "\n",
        "        self.attention_heads = torch.nn.ModuleList([HeadAttention(input_channels, input_width, input_height) for i in range(n_heads)])\n",
        "        self.convattention = nn.Conv2d(input_channels*n_heads, input_channels, 3, 1, 1, bias=True)\n",
        "        #self.batchnorm = nn.BatchNorm2d(input_channels)\n",
        "\n",
        "        self.Relu = nn.ReLU()\n",
        "\n",
        "    def forward(self, input):\n",
        "\n",
        "        attention_output = []\n",
        "\n",
        "        for head in range(self.n_heads):\n",
        "\n",
        "            x = self.attention_heads[head](input)\n",
        "\n",
        "            attention_output.append(x)\n",
        "\n",
        "            del x\n",
        "\n",
        "        attention_output = torch.cat(attention_output, 1) # (Batch, n_channels*n_heads, Height, Width)\n",
        "\n",
        "        attention_output = self.convattention(attention_output) # (Batch, n_channels, Height, Width)\n",
        "\n",
        "        attention_output = input + attention_output # (Batch, n_channels, Height, Width)\n",
        "\n",
        "        #attention_output = self.batchnorm(attention_output) # BatchNorm to be removed ---> Might be decreasing the Attention performance\n",
        "\n",
        "        attention_output = self.Relu(attention_output)\n",
        "\n",
        "        return attention_output"
      ]
    },
    {
      "cell_type": "code",
      "execution_count": null,
      "metadata": {
        "id": "R14uPlaN1eGQ"
      },
      "outputs": [],
      "source": [
        "class AttentionModel(nn.Module):\n",
        "    '''\n",
        "    Attention Classifier\n",
        "    '''\n",
        "    def __init__(self, n_heads):\n",
        "        super(AttentionModel, self).__init__()\n",
        "\n",
        "        self.attention1 = AttentionLayer(n_heads, 1, 28, 28)\n",
        "        self.attention2 = AttentionLayer(n_heads, 1, 28, 28)\n",
        "        #self.attention3 = AttentionLayer(n_heads, 1, 28, 28)\n",
        "        #self.attention4 = AttentionLayer(n_heads, 1, 28, 28)\n",
        "        self.neuron_out = nn.Linear(1*28*28, 10, bias=True)\n",
        "\n",
        "        #self.sigmoid = nn.Sigmoid() # ---> Included in BCEWithLogits (in log version)\n",
        "\n",
        "    def forward(self, input):\n",
        "\n",
        "        x = self.attention1(input)\n",
        "        x = self.attention2(x)\n",
        "        #x = self.attention3(x)\n",
        "        #x = self.attention4(x)\n",
        "\n",
        "        x = x.view(x.size(0), -1)\n",
        "\n",
        "        output = self.neuron_out(x)\n",
        "\n",
        "        #output = self.sigmoid(x)\n",
        "\n",
        "        return output"
      ]
    },
    {
      "cell_type": "code",
      "execution_count": null,
      "metadata": {
        "id": "xVS4lhiju7Q2"
      },
      "outputs": [],
      "source": [
        "attention_model = AttentionModel(16).to(device)"
      ]
    },
    {
      "cell_type": "code",
      "execution_count": null,
      "metadata": {
        "id": "q-jbso1g2pge"
      },
      "outputs": [],
      "source": [
        "# Treinando apenas o Attention Model\n",
        "\n",
        "weights_init(attention_model)\n",
        "\n",
        "EPOCHS = 10\n",
        "iters = 0.\n",
        "\n",
        "train_loader = torch.utils.data.DataLoader(train_data, batch_size=4096, shuffle=True)\n",
        "test_loader = torch.utils.data.DataLoader(test_data, batch_size=4096, shuffle=True)\n",
        "optimizer_attention = torch.optim.Adam(attention_model.parameters(), lr=1e-3, betas=(0.9, 0.999))\n",
        "attention_losses = []\n",
        "attention_accuracies = []\n",
        "\n",
        "attention_gradients = []"
      ]
    },
    {
      "cell_type": "code",
      "execution_count": null,
      "metadata": {
        "colab": {
          "base_uri": "https://localhost:8080/"
        },
        "id": "2Nsyhkju2u7d",
        "outputId": "a75360b1-cd4e-42b3-bea7-f51b7291eb0e"
      },
      "outputs": [
        {
          "name": "stdout",
          "output_type": "stream",
          "text": [
            "1/10\n",
            "Attention Model Loss: 27.663555026054382\tAttention Model Accuracy: 63.72999572753906\n",
            "Attention Gradients: -9.770253939223039e-08\n",
            "2/10\n",
            "Attention Model Loss: 18.10652756690979\tAttention Model Accuracy: 67.98999786376953\n",
            "Attention Gradients: -6.465085675699811e-07\n",
            "3/10\n",
            "Attention Model Loss: 14.481560945510864\tAttention Model Accuracy: 70.0\n",
            "Attention Gradients: -1.4438805919780862e-06\n",
            "4/10\n",
            "Attention Model Loss: 12.81577080488205\tAttention Model Accuracy: 72.52999877929688\n",
            "Attention Gradients: -2.363786279602209e-06\n",
            "5/10\n",
            "Attention Model Loss: 11.824866533279419\tAttention Model Accuracy: 74.48999786376953\n",
            "Attention Gradients: -3.364557187524042e-06\n",
            "6/10\n",
            "Attention Model Loss: 11.103501737117767\tAttention Model Accuracy: 76.13999938964844\n",
            "Attention Gradients: -4.438938049133867e-06\n",
            "7/10\n",
            "Attention Model Loss: 10.547686696052551\tAttention Model Accuracy: 77.44000244140625\n",
            "Attention Gradients: -5.571839210460894e-06\n",
            "8/10\n",
            "Attention Model Loss: 10.048310577869415\tAttention Model Accuracy: 78.5199966430664\n",
            "Attention Gradients: -6.725663297402207e-06\n",
            "9/10\n",
            "Attention Model Loss: 9.619653344154358\tAttention Model Accuracy: 79.2199935913086\n",
            "Attention Gradients: -7.864537110435776e-06\n",
            "10/10\n",
            "Attention Model Loss: 9.246980786323547\tAttention Model Accuracy: 79.62999725341797\n",
            "Attention Gradients: -8.999193596537225e-06\n"
          ]
        }
      ],
      "source": [
        "for epoch in range(EPOCHS):\n",
        "\n",
        "    attention_epoch_loss = 0.\n",
        "\n",
        "    for item, (image, target) in enumerate(train_loader):\n",
        "\n",
        "        attention_model.zero_grad()\n",
        "\n",
        "        image, target = image.to(device), target.to(device)\n",
        "\n",
        "        attention_output = attention_model(image)\n",
        "\n",
        "        attention_loss = loss(attention_output, target)\n",
        "\n",
        "        attention_losses.append(attention_loss.item())\n",
        "\n",
        "        attention_epoch_loss += attention_loss.item()\n",
        "\n",
        "        attention_loss.backward()\n",
        "\n",
        "        attention_gradients_avg = torch.mean(attention_model.attention1.attention_heads[0].x_weights.grad)\n",
        "        attention_gradients.append(attention_gradients_avg.cpu())\n",
        "\n",
        "        optimizer_attention.step()\n",
        "\n",
        "        iters += 1\n",
        "\n",
        "    if epoch % 1 == 0:\n",
        "\n",
        "        total = 0.\n",
        "        correct_attention = 0.\n",
        "\n",
        "        for item, (image, target) in enumerate(test_loader):\n",
        "\n",
        "            image, target = image.to(device), target.to(device)\n",
        "\n",
        "            with torch.no_grad():\n",
        "                attention_output = attention_model(image)\n",
        "\n",
        "            total += len(target)\n",
        "\n",
        "            _, attention_output = torch.max(attention_output, 1)\n",
        "\n",
        "            correct_attention += (attention_output == target).sum()\n",
        "\n",
        "        attention_accuracy = (correct_attention/total)*100\n",
        "        attention_accuracies.append(attention_accuracy.cpu())\n",
        "\n",
        "\n",
        "        print(f\"{epoch+1}/{EPOCHS}\")\n",
        "        print(f\"Attention Model Loss: {attention_epoch_loss}\\tAttention Model Accuracy: {attention_accuracy}\")\n",
        "        print(f\"Attention Gradients: {attention_gradients[-1]}\")"
      ]
    },
    {
      "cell_type": "code",
      "execution_count": null,
      "metadata": {
        "id": "gW2LiWoU0DvI"
      },
      "outputs": [],
      "source": [
        "import pickle\n",
        "\n",
        "with open(\"/content/drive/MyDrive/Colab Notebooks/AttentionTestParameters/Control_Metrics_MNIST.pkl\", 'rb') as f:\n",
        "    [control_losses, control_accuracies, control_gradients] = pickle.load(f)\n",
        "\n",
        "f.close()"
      ]
    },
    {
      "cell_type": "code",
      "execution_count": null,
      "metadata": {
        "colab": {
          "base_uri": "https://localhost:8080/",
          "height": 294
        },
        "id": "wCKqY7_g2vAG",
        "outputId": "88d71e2d-b6c8-40f5-a871-f2b7d8c264b4"
      },
      "outputs": [
        {
          "data": {
            "image/png": "[encoded data removed]",
            "text/plain": [
              "<Figure size 432x288 with 6 Axes>"
            ]
          },
          "metadata": {},
          "output_type": "display_data"
        }
      ],
      "source": [
        "fig, ax = plt.subplots(3,2)\n",
        "\n",
        "ax[0,0].plot(torch.arange(0, iters), control_losses)\n",
        "ax[0,0].set_title(\"Control Losses\")\n",
        "ax[0,1].plot(torch.arange(0, iters), attention_losses)\n",
        "ax[0,1].set_title(\"Attention Losses\")\n",
        "ax[1,0].plot(torch.arange(0, EPOCHS), control_accuracies)\n",
        "ax[1,0].set_title(\"Control Accuracy %\")\n",
        "ax[1,1].plot(torch.arange(0, EPOCHS), attention_accuracies)\n",
        "ax[1,1].set_title(\"Attention Accuracy %\")\n",
        "\n",
        "ax[2,0].plot(torch.arange(0, iters), control_gradients)\n",
        "ax[2,0].set_title(\"Control Gradients Average\")\n",
        "ax[2,1].plot(torch.arange(0, iters), attention_gradients)\n",
        "ax[2,1].set_title(\"Attention Gradients Average\")\n",
        "\n",
        "#fig.tight_layout()\n",
        "fig.suptitle(\"Using 2 layers, 8 heads none BatchNorm\")\n",
        "\n",
        "fig.savefig(\"/content/drive/MyDrive/Colab Notebooks/Images/Comparison_MNIST_noneBN.png\")"
      ]
    },
    {
      "cell_type": "code",
      "execution_count": null,
      "metadata": {
        "id": "HCECCIP25dsv"
      },
      "outputs": [],
      "source": [
        "class VisualAttentionLayer(nn.Module):\n",
        "\n",
        "    '''\n",
        "    Applies the MultiHead Attention Arrays\n",
        "    '''\n",
        "\n",
        "    def __init__(self, n_heads, input_channels, input_width, input_height):\n",
        "\n",
        "        self.n_heads = n_heads\n",
        "\n",
        "        super(VisualAttentionLayer, self).__init__()\n",
        "\n",
        "        self.attention_heads = torch.nn.ModuleList([HeadAttention(input_channels, input_width, input_height) for i in range(n_heads)])\n",
        "        self.convattention = nn.Conv2d(input_channels*n_heads, input_channels, 3, 1, 1, bias=True)\n",
        "        self.batchnorm = nn.BatchNorm2d(input_channels)\n",
        "\n",
        "        self.Relu = nn.ReLU()\n",
        "\n",
        "    def forward(self, input):\n",
        "\n",
        "        attention_output = []\n",
        "\n",
        "        for head in range(self.n_heads):\n",
        "\n",
        "            x = self.attention_heads[head](input)\n",
        "\n",
        "            attention_output.append(x)\n",
        "\n",
        "            del x\n",
        "\n",
        "        attention_output_preconv = torch.cat(attention_output, 1) # (Batch, n_channels*n_heads, Height, Width)\n",
        "\n",
        "        attention_output_postconv = self.convattention(attention_output_preconv) # (Batch, n_channels, Height, Width)\n",
        "\n",
        "        #attention_output_prenorm = input + attention_output_postconv # (Batch, n_channels, Height, Width)\n",
        "        attention_output_prenorm = torch.zeros_like(attention_output_postconv, device=device)\n",
        "\n",
        "        #attention_output_postnorm = self.batchnorm(attention_output_prenorm)\n",
        "        #attention_output_postnorm = torch.zeros_like(attention_output_prenorm, device=device)\n",
        "        attention_output_postnorm = torch.zeros_like(attention_output_postconv, device=device)\n",
        "\n",
        "        #attention_output = self.Relu(attention_output_postnorm)\n",
        "        #attention_output = self.Relu(attention_output_prenorm)\n",
        "        attention_output = self.Relu(attention_output_postconv)\n",
        "\n",
        "        return attention_output, attention_output_preconv, attention_output_postconv, attention_output_prenorm, attention_output_postnorm"
      ]
    },
    {
      "cell_type": "code",
      "execution_count": null,
      "metadata": {
        "id": "fCyZ93bj5liM"
      },
      "outputs": [],
      "source": [
        "class VisualModel(nn.Module):\n",
        "    '''\n",
        "    Attention Classifier\n",
        "    '''\n",
        "    def __init__(self, n_heads):\n",
        "        super(VisualModel, self).__init__()\n",
        "\n",
        "        self.attention1 = VisualAttentionLayer(n_heads, 1, 28, 28)\n",
        "        self.attention2 = VisualAttentionLayer(n_heads, 1, 28, 28)\n",
        "        #self.attention3 = VisualAttentionLayer(n_heads, 1, 28, 28)\n",
        "        #self.attention4 = VisualAttentionLayer(n_heads, 1, 28, 28)\n",
        "        self.neuron_out = nn.Linear(1*28*28, 10, bias=True)\n",
        "\n",
        "        #self.sigmoid = nn.Sigmoid() # ---> Included in BCEWithLogits (in log version)\n",
        "\n",
        "    def forward(self, input):\n",
        "\n",
        "        attention_output1, attention_output_preconv1, attention_output_postconv1, attention_output_prenorm1, attention_output_postnorm1 = self.attention1(input)\n",
        "        attention_output2, attention_output_preconv2, attention_output_postconv2, attention_output_prenorm2, attention_output_postnorm2 = self.attention2(attention_output1)\n",
        "        #attention_output3, attention_output_preconv3, attention_output_postconv3, attention_output_prenorm3, attention_output_postnorm3 = self.attention3(attention_output2)\n",
        "        #attention_output4, attention_output_preconv4, attention_output_postconv4, attention_output_prenorm4, attention_output_postnorm4 = self.attention4(attention_output3)\n",
        "\n",
        "        x = attention_output2.view(attention_output2.size(0), -1)\n",
        "\n",
        "        output = self.neuron_out(x)\n",
        "\n",
        "        #output = self.sigmoid(x)\n",
        "\n",
        "        out1 = (attention_output1, attention_output_preconv1, attention_output_postconv1, attention_output_prenorm1, attention_output_postnorm1)\n",
        "        out2 = (attention_output2, attention_output_preconv2, attention_output_postconv2, attention_output_prenorm2, attention_output_postnorm2)\n",
        "        #out3 = (attention_output3, attention_output_preconv3, attention_output_postconv3, attention_output_prenorm3, attention_output_postnorm3)\n",
        "        #out4 = (attention_output4, attention_output_preconv4, attention_output_postconv4, attention_output_prenorm4, attention_output_postnorm4)\n",
        "\n",
        "        return output, out1, out2#, out3, out4"
      ]
    },
    {
      "cell_type": "code",
      "execution_count": null,
      "metadata": {
        "id": "XRX1ziZ45q6K"
      },
      "outputs": [],
      "source": [
        "visual_model = VisualModel(8).to(device)\n",
        "\n",
        "#visual_model.load_state_dict(torch.load(\"/content/drive/MyDrive/Colab Notebooks/AttentionTestParameters/Attention_params_MNIST_lowLR_woBN.tar\")) # This one only loads weights for Convs and BatchNorm\n",
        "visual_model.load_state_dict(attention_model.state_dict())\n",
        "\n",
        "for attention_head in range(8):\n",
        "\n",
        "    visual_model.attention1.attention_heads[attention_head].x_weights = attention_model.attention1.attention_heads[attention_head].x_weights\n",
        "    visual_model.attention1.attention_heads[attention_head].y_weights = attention_model.attention1.attention_heads[attention_head].y_weights\n",
        "    visual_model.attention2.attention_heads[attention_head].x_weights = attention_model.attention2.attention_heads[attention_head].x_weights\n",
        "    visual_model.attention2.attention_heads[attention_head].y_weights = attention_model.attention2.attention_heads[attention_head].y_weights\n",
        "    '''visual_model.attention3.attention_heads[attention_head].x_weights = attention_model.attention3.attention_heads[attention_head].x_weights\n",
        "    visual_model.attention3.attention_heads[attention_head].y_weights = attention_model.attention3.attention_heads[attention_head].y_weights\n",
        "    visual_model.attention4.attention_heads[attention_head].x_weights = attention_model.attention4.attention_heads[attention_head].x_weights\n",
        "    visual_model.attention4.attention_heads[attention_head].y_weights = attention_model.attention4.attention_heads[attention_head].y_weights'''"
      ]
    },
    {
      "cell_type": "code",
      "execution_count": null,
      "metadata": {
        "id": "QdSbYLZC5b0s"
      },
      "outputs": [],
      "source": [
        "def visualize_outputs(model, image):\n",
        "\n",
        "    model.eval()\n",
        "\n",
        "    _, out1, out2 = model(image)\n",
        "\n",
        "    image = to_numpy(image)\n",
        "\n",
        "    attention_output1, attention_output1_preconv, attention_output1_postconv = to_numpy(out1[0]), to_numpy(out1[1]), to_numpy(out1[2])\n",
        "    attention_output1_prenorm, attention_output1_postnorm = to_numpy(out1[3]), to_numpy(out1[4])\n",
        "\n",
        "    attention_output2, attention_output2_preconv, attention_output2_postconv = to_numpy(out2[0]), to_numpy(out2[1]), to_numpy(out1[2])\n",
        "    attention_output2_prenorm, attention_output2_postnorm = to_numpy(out2[3]), to_numpy(out2[4])\n",
        "\n",
        "    '''attention_output3, attention_output3_preconv, attention_output3_postconv = to_numpy(out3[0]), to_numpy(out3[1]), to_numpy(out1[2])\n",
        "    attention_output3_prenorm, attention_output3_postnorm = to_numpy(out3[3]), to_numpy(out3[4])\n",
        "\n",
        "    attention_output4, attention_output4_preconv, attention_output4_postconv = to_numpy(out4[0]), to_numpy(out4[1]), to_numpy(out1[2])\n",
        "    attention_output4_prenorm, attention_output4_postnorm = to_numpy(out4[3]), to_numpy(out4[4])'''\n",
        "\n",
        "    plt.imshow(image[0].squeeze(-1), cmap='gray') # Matplotlib expects a channel dimension with 3 or 4 channels, not 1.\n",
        "    plt.title(\"Input Image\")\n",
        "    plt.show()\n",
        "    #plt.savefig(\"/content/drive/MyDrive/Colab Notebooks/Images/Input_image_2layers_noneBN8heads.png\")\n",
        "    plt.savefig(\"Input_image_4layers_woBN8heads.png\")\n",
        "\n",
        "    fig, ax = plt.subplots(4, 5)\n",
        "\n",
        "    for x in range(4):\n",
        "        for y in range(5):\n",
        "            ax[x,y].axis(\"off\")\n",
        "\n",
        "    ax[0, 0].imshow(attention_output1_preconv[0, :, :, 0], cmap='gray') # Attention: This one's shape is (Batch, Height, Width, n_heads*n_channels)\n",
        "    ax[0, 0].set_title(\"Before Conv\")\n",
        "    ax[0, 1].imshow(attention_output1_postconv[0].squeeze(-1), cmap='gray')\n",
        "    ax[0, 1].set_title(\"After Conv\")\n",
        "    ax[0, 2].imshow(attention_output1_prenorm[0].squeeze(-1), cmap='gray')\n",
        "    ax[0, 2].set_title(\"Before Norm\")\n",
        "    ax[0, 3].imshow(attention_output1_postnorm[0].squeeze(-1), cmap='gray')\n",
        "    ax[0, 3].set_title(\"After Norm\")\n",
        "    ax[0, 4].imshow(attention_output1[0].squeeze(-1), cmap='gray')\n",
        "    ax[0, 4].set_title(\"Final Output\")\n",
        "    ax[1, 0].imshow(attention_output2_preconv[0, :, :, 0], cmap='gray')\n",
        "    ax[1, 1].imshow(attention_output2_postconv[0].squeeze(-1), cmap='gray')\n",
        "    ax[1, 2].imshow(attention_output2_prenorm[0].squeeze(-1), cmap='gray')\n",
        "    ax[1, 3].imshow(attention_output2_postnorm[0].squeeze(-1), cmap='gray')\n",
        "    ax[1, 4].imshow(attention_output2[0].squeeze(-1), cmap='gray')\n",
        "    '''ax[2, 0].imshow(attention_output3_preconv[0, :, :, 0], cmap='gray')\n",
        "    ax[2, 1].imshow(attention_output3_postconv[0].squeeze(-1), cmap='gray')\n",
        "    ax[2, 2].imshow(attention_output3_prenorm[0].squeeze(-1), cmap='gray')\n",
        "    ax[2, 3].imshow(attention_output3_postnorm[0].squeeze(-1), cmap='gray')\n",
        "    ax[2, 4].imshow(attention_output3_prenorm[0].squeeze(-1), cmap='gray')\n",
        "    ax[3, 0].imshow(attention_output4_preconv[0, :, :, 0], cmap='gray')\n",
        "    ax[3, 1].imshow(attention_output4_postconv[0].squeeze(-1), cmap='gray')\n",
        "    ax[3, 2].imshow(attention_output4_prenorm[0].squeeze(-1), cmap='gray')\n",
        "    ax[3, 3].imshow(attention_output4_postnorm[0].squeeze(-1), cmap='gray')\n",
        "    ax[3, 4].imshow(attention_output4[0].squeeze(-1), cmap='gray')'''\n",
        "\n",
        "    #fig.savefig(\"/content/drive/MyDrive/Colab Notebooks/Images/Outputs_2layers_noneBN8heads.png\")\n",
        "    fig.savefig(\"Outputs_4layers_lowLR_woBN8heads.png\")\n",
        "    plt.show()"
      ]
    },
    {
      "cell_type": "code",
      "execution_count": null,
      "metadata": {
        "colab": {
          "base_uri": "https://localhost:8080/",
          "height": 545
        },
        "id": "mRoRLNsg1eqs",
        "outputId": "cfd2ec74-4b54-4050-d196-270f4e83bea6"
      },
      "outputs": [
        {
          "data": {
            "image/png": "[encoded data removed]",
            "text/plain": [
              "<Figure size 432x288 with 1 Axes>"
            ]
          },
          "metadata": {},
          "output_type": "display_data"
        },
        {
          "data": {
            "text/plain": [
              "<Figure size 432x288 with 0 Axes>"
            ]
          },
          "metadata": {},
          "output_type": "display_data"
        },
        {
          "data": {
            "image/png": "[encoded data removed]",
            "text/plain": [
              "<Figure size 432x288 with 20 Axes>"
            ]
          },
          "metadata": {},
          "output_type": "display_data"
        }
      ],
      "source": [
        "image, _ = next(iter(train_loader))\n",
        "\n",
        "image = image.to(device)\n",
        "\n",
        "visualize_outputs(visual_model, image)"
      ]
    },
    {
      "cell_type": "markdown",
      "metadata": {
        "id": "LDNNEpEzRxaL"
      },
      "source": [
        "# Testando sem residual connection"
      ]
    },
    {
      "cell_type": "code",
      "execution_count": null,
      "metadata": {
        "id": "n1HJHhFq_qlh"
      },
      "outputs": [],
      "source": [
        "class AttentionLayer(nn.Module):\n",
        "\n",
        "    '''\n",
        "    Applies the MultiHead Attention Arrays\n",
        "    '''\n",
        "\n",
        "    def __init__(self, n_heads, input_channels, input_width, input_height):\n",
        "\n",
        "        self.n_heads = n_heads\n",
        "\n",
        "        super(AttentionLayer, self).__init__()\n",
        "\n",
        "        self.attention_heads = torch.nn.ModuleList([HeadAttention(input_channels, input_width, input_height) for i in range(n_heads)])\n",
        "        self.convattention = nn.Conv2d(input_channels*n_heads, input_channels, 3, 1, 1, bias=True)\n",
        "        self.batchnorm = nn.BatchNorm2d(input_channels)\n",
        "\n",
        "        self.Relu = nn.ReLU()\n",
        "\n",
        "    def forward(self, input):\n",
        "\n",
        "        attention_output = []\n",
        "\n",
        "        for head in range(self.n_heads):\n",
        "\n",
        "            x = self.attention_heads[head](input)\n",
        "\n",
        "            attention_output.append(x)\n",
        "\n",
        "            del x\n",
        "\n",
        "        attention_output = torch.cat(attention_output, 1) # (Batch, n_channels*n_heads, Height, Width)\n",
        "\n",
        "        attention_output = self.convattention(attention_output) # (Batch, n_channels, Height, Width)\n",
        "\n",
        "        #attention_output = input + attention_output # (Batch, n_channels, Height, Width)\n",
        "\n",
        "        #attention_output = self.batchnorm(attention_output) # BatchNorm to be removed ---> Might be decreasing the Attention performance\n",
        "\n",
        "        attention_output = self.Relu(attention_output)\n",
        "\n",
        "        return attention_output"
      ]
    },
    {
      "cell_type": "code",
      "execution_count": null,
      "metadata": {
        "id": "3oI7iA6jSEBK"
      },
      "outputs": [],
      "source": [
        "attention_model = AttentionModel(8).to(device)"
      ]
    },
    {
      "cell_type": "code",
      "execution_count": null,
      "metadata": {
        "id": "aBbwApDCSE9b"
      },
      "outputs": [],
      "source": [
        "weights_init(attention_model)\n",
        "\n",
        "EPOCHS = 10\n",
        "iters = 0.\n",
        "\n",
        "train_loader = torch.utils.data.DataLoader(train_data, batch_size=4096, shuffle=True)\n",
        "test_loader = torch.utils.data.DataLoader(test_data, batch_size=4096, shuffle=True)\n",
        "optimizer_attention = torch.optim.Adam(attention_model.parameters(), lr=1e-3, betas=(0.9, 0.999))\n",
        "attention_losses = []\n",
        "attention_accuracies = []\n",
        "\n",
        "attention_gradients = []"
      ]
    },
    {
      "cell_type": "code",
      "execution_count": null,
      "metadata": {
        "id": "uCYamAMMbvJO"
      },
      "outputs": [],
      "source": [
        "attention_wise = []\n",
        "rest = []\n",
        "\n",
        "for n, p in attention_model.named_parameters():\n",
        "\n",
        "    if \"attention_heads\" in n:\n",
        "        attention_wise.append(p)\n",
        "\n",
        "    else:\n",
        "\n",
        "        rest.append(p)"
      ]
    },
    {
      "cell_type": "code",
      "execution_count": null,
      "metadata": {
        "id": "y99x4voLbx1N"
      },
      "outputs": [],
      "source": [
        "weights_init(attention_model)\n",
        "\n",
        "EPOCHS = 10\n",
        "iters = 0.\n",
        "\n",
        "train_loader = torch.utils.data.DataLoader(train_data, batch_size=4096, shuffle=True)\n",
        "test_loader = torch.utils.data.DataLoader(test_data, batch_size=4096, shuffle=True)\n",
        "optimizer_attention = torch.optim.Adam(attention_wise, lr=1e-1, betas=(0.9, 0.999)) # Consider using lr = 1e-1\n",
        "optimizer_rest = torch.optim.Adam(rest, lr=1e-3, betas=(0.9, 0.999))\n",
        "\n",
        "attention_losses = []\n",
        "attention_accuracies = []\n",
        "\n",
        "attention_gradients = []"
      ]
    },
    {
      "cell_type": "code",
      "execution_count": null,
      "metadata": {
        "id": "evzEh7hqerxl"
      },
      "outputs": [],
      "source": [
        "import pandas as pd"
      ]
    },
    {
      "cell_type": "code",
      "execution_count": null,
      "metadata": {
        "id": "tHXYa4QoewsH"
      },
      "outputs": [],
      "source": [
        "teste = {\n",
        "    'MNIST - Lr = 0.1 | 1e-3': {'Loss': 7.4980, 'Accuracy(%)': 82.12, 'Last Gradients Average': 0.0002},\n",
        "    'Attention A': {'Loss': 34.5390, 'Accuracy(%)': np.nan, 'Last Gradients Average': 1.7158e-11},\n",
        "    'Attention B': {'Loss': 7.5913, 'Accuracy(%)': 81.46, 'Last Gradients Average': 2.9409e-5},\n",
        "    'Attention C': {'Loss': 34.5388, 'Accuracy(%)': np.nan, 'Last Gradients Average': 1.5293e-12},\n",
        "    'Attention D': {'Loss': 7.4856, 'Accuracy(%)': 81.66, 'Last Gradients Average': 7.4328e-7},\n",
        "    'Attention E': {'Loss': 9.8522, 'Accuracy(%)': 77.09, 'Last Gradients Average': 3.2148e-5},\n",
        "    'Attention F': {'Loss': 7.4806, 'Accuracy(%)': 81.33, 'Last Gradients Average': 3.6596e-6},\n",
        "    'Attention G': {'Loss': 10.0345, 'Accuracy(%)': 76.37, 'Last Gradients Average': 5.4880e-5},\n",
        "    'Attention H': {'Loss': 7.7475, 'Accuracy(%)': 80.79, 'Last Gradients Average': -6.2471e-6},\n",
        "}"
      ]
    },
    {
      "cell_type": "code",
      "execution_count": null,
      "metadata": {
        "colab": {
          "base_uri": "https://localhost:8080/",
          "height": 380
        },
        "id": "qdGVx3V7SchV",
        "outputId": "c628e008-b17d-4306-b33b-a52c5b3ccba7"
      },
      "outputs": [
        {
          "output_type": "error",
          "ename": "KeyboardInterrupt",
          "evalue": "ignored",
          "traceback": [
            "\u001b[0;31m---------------------------------------------------------------------------\u001b[0m",
            "\u001b[0;31mKeyboardInterrupt\u001b[0m                         Traceback (most recent call last)",
            "\u001b[0;32m<ipython-input-13-c0932eb205ef>\u001b[0m in \u001b[0;36m<module>\u001b[0;34m\u001b[0m\n\u001b[1;32m      9\u001b[0m         \u001b[0mimage\u001b[0m\u001b[0;34m,\u001b[0m \u001b[0mtarget\u001b[0m \u001b[0;34m=\u001b[0m \u001b[0mimage\u001b[0m\u001b[0;34m.\u001b[0m\u001b[0mto\u001b[0m\u001b[0;34m(\u001b[0m\u001b[0mdevice\u001b[0m\u001b[0;34m)\u001b[0m\u001b[0;34m,\u001b[0m \u001b[0mtarget\u001b[0m\u001b[0;34m.\u001b[0m\u001b[0mto\u001b[0m\u001b[0;34m(\u001b[0m\u001b[0mdevice\u001b[0m\u001b[0;34m)\u001b[0m\u001b[0;34m\u001b[0m\u001b[0;34m\u001b[0m\u001b[0m\n\u001b[1;32m     10\u001b[0m \u001b[0;34m\u001b[0m\u001b[0m\n\u001b[0;32m---> 11\u001b[0;31m         \u001b[0mattention_output\u001b[0m \u001b[0;34m=\u001b[0m \u001b[0mattention_model\u001b[0m\u001b[0;34m(\u001b[0m\u001b[0mimage\u001b[0m\u001b[0;34m)\u001b[0m\u001b[0;34m\u001b[0m\u001b[0;34m\u001b[0m\u001b[0m\n\u001b[0m\u001b[1;32m     12\u001b[0m \u001b[0;34m\u001b[0m\u001b[0m\n\u001b[1;32m     13\u001b[0m         \u001b[0mattention_loss\u001b[0m \u001b[0;34m=\u001b[0m \u001b[0mloss\u001b[0m\u001b[0;34m(\u001b[0m\u001b[0mattention_output\u001b[0m\u001b[0;34m,\u001b[0m \u001b[0mtarget\u001b[0m\u001b[0;34m)\u001b[0m\u001b[0;34m\u001b[0m\u001b[0;34m\u001b[0m\u001b[0m\n",
            "\u001b[0;32m/usr/local/lib/python3.9/dist-packages/torch/nn/modules/module.py\u001b[0m in \u001b[0;36m_call_impl\u001b[0;34m(self, *input, **kwargs)\u001b[0m\n\u001b[1;32m   1192\u001b[0m         if not (self._backward_hooks or self._forward_hooks or self._forward_pre_hooks or _global_backward_hooks\n\u001b[1;32m   1193\u001b[0m                 or _global_forward_hooks or _global_forward_pre_hooks):\n\u001b[0;32m-> 1194\u001b[0;31m             \u001b[0;32mreturn\u001b[0m \u001b[0mforward_call\u001b[0m\u001b[0;34m(\u001b[0m\u001b[0;34m*\u001b[0m\u001b[0minput\u001b[0m\u001b[0;34m,\u001b[0m \u001b[0;34m**\u001b[0m\u001b[0mkwargs\u001b[0m\u001b[0;34m)\u001b[0m\u001b[0;34m\u001b[0m\u001b[0;34m\u001b[0m\u001b[0m\n\u001b[0m\u001b[1;32m   1195\u001b[0m         \u001b[0;31m# Do not call functions when jit is used\u001b[0m\u001b[0;34m\u001b[0m\u001b[0;34m\u001b[0m\u001b[0m\n\u001b[1;32m   1196\u001b[0m         \u001b[0mfull_backward_hooks\u001b[0m\u001b[0;34m,\u001b[0m \u001b[0mnon_full_backward_hooks\u001b[0m \u001b[0;34m=\u001b[0m \u001b[0;34m[\u001b[0m\u001b[0;34m]\u001b[0m\u001b[0;34m,\u001b[0m \u001b[0;34m[\u001b[0m\u001b[0;34m]\u001b[0m\u001b[0;34m\u001b[0m\u001b[0;34m\u001b[0m\u001b[0m\n",
            "\u001b[0;32m<ipython-input-5-4a71db15a914>\u001b[0m in \u001b[0;36mforward\u001b[0;34m(self, input)\u001b[0m\n\u001b[1;32m     16\u001b[0m     \u001b[0;32mdef\u001b[0m \u001b[0mforward\u001b[0m\u001b[0;34m(\u001b[0m\u001b[0mself\u001b[0m\u001b[0;34m,\u001b[0m \u001b[0minput\u001b[0m\u001b[0;34m)\u001b[0m\u001b[0;34m:\u001b[0m\u001b[0;34m\u001b[0m\u001b[0;34m\u001b[0m\u001b[0m\n\u001b[1;32m     17\u001b[0m \u001b[0;34m\u001b[0m\u001b[0m\n\u001b[0;32m---> 18\u001b[0;31m         \u001b[0mx\u001b[0m \u001b[0;34m=\u001b[0m \u001b[0mself\u001b[0m\u001b[0;34m.\u001b[0m\u001b[0mattention1\u001b[0m\u001b[0;34m(\u001b[0m\u001b[0minput\u001b[0m\u001b[0;34m)\u001b[0m\u001b[0;34m\u001b[0m\u001b[0;34m\u001b[0m\u001b[0m\n\u001b[0m\u001b[1;32m     19\u001b[0m         \u001b[0mx\u001b[0m \u001b[0;34m=\u001b[0m \u001b[0mself\u001b[0m\u001b[0;34m.\u001b[0m\u001b[0mattention2\u001b[0m\u001b[0;34m(\u001b[0m\u001b[0mx\u001b[0m\u001b[0;34m)\u001b[0m\u001b[0;34m\u001b[0m\u001b[0;34m\u001b[0m\u001b[0m\n\u001b[1;32m     20\u001b[0m         '''x = self.attention3(x)\n",
            "\u001b[0;32m/usr/local/lib/python3.9/dist-packages/torch/nn/modules/module.py\u001b[0m in \u001b[0;36m_call_impl\u001b[0;34m(self, *input, **kwargs)\u001b[0m\n\u001b[1;32m   1192\u001b[0m         if not (self._backward_hooks or self._forward_hooks or self._forward_pre_hooks or _global_backward_hooks\n\u001b[1;32m   1193\u001b[0m                 or _global_forward_hooks or _global_forward_pre_hooks):\n\u001b[0;32m-> 1194\u001b[0;31m             \u001b[0;32mreturn\u001b[0m \u001b[0mforward_call\u001b[0m\u001b[0;34m(\u001b[0m\u001b[0;34m*\u001b[0m\u001b[0minput\u001b[0m\u001b[0;34m,\u001b[0m \u001b[0;34m**\u001b[0m\u001b[0mkwargs\u001b[0m\u001b[0;34m)\u001b[0m\u001b[0;34m\u001b[0m\u001b[0;34m\u001b[0m\u001b[0m\n\u001b[0m\u001b[1;32m   1195\u001b[0m         \u001b[0;31m# Do not call functions when jit is used\u001b[0m\u001b[0;34m\u001b[0m\u001b[0;34m\u001b[0m\u001b[0m\n\u001b[1;32m   1196\u001b[0m         \u001b[0mfull_backward_hooks\u001b[0m\u001b[0;34m,\u001b[0m \u001b[0mnon_full_backward_hooks\u001b[0m \u001b[0;34m=\u001b[0m \u001b[0;34m[\u001b[0m\u001b[0;34m]\u001b[0m\u001b[0;34m,\u001b[0m \u001b[0;34m[\u001b[0m\u001b[0;34m]\u001b[0m\u001b[0;34m\u001b[0m\u001b[0;34m\u001b[0m\u001b[0m\n",
            "\u001b[0;32m<ipython-input-8-995b5bf1b9dd>\u001b[0m in \u001b[0;36mforward\u001b[0;34m(self, input)\u001b[0m\n\u001b[1;32m     23\u001b[0m         \u001b[0;32mfor\u001b[0m \u001b[0mhead\u001b[0m \u001b[0;32min\u001b[0m \u001b[0mrange\u001b[0m\u001b[0;34m(\u001b[0m\u001b[0mself\u001b[0m\u001b[0;34m.\u001b[0m\u001b[0mn_heads\u001b[0m\u001b[0;34m)\u001b[0m\u001b[0;34m:\u001b[0m\u001b[0;34m\u001b[0m\u001b[0;34m\u001b[0m\u001b[0m\n\u001b[1;32m     24\u001b[0m \u001b[0;34m\u001b[0m\u001b[0m\n\u001b[0;32m---> 25\u001b[0;31m             \u001b[0mx\u001b[0m \u001b[0;34m=\u001b[0m \u001b[0mself\u001b[0m\u001b[0;34m.\u001b[0m\u001b[0mattention_heads\u001b[0m\u001b[0;34m[\u001b[0m\u001b[0mhead\u001b[0m\u001b[0;34m]\u001b[0m\u001b[0;34m(\u001b[0m\u001b[0minput\u001b[0m\u001b[0;34m)\u001b[0m\u001b[0;34m\u001b[0m\u001b[0;34m\u001b[0m\u001b[0m\n\u001b[0m\u001b[1;32m     26\u001b[0m \u001b[0;34m\u001b[0m\u001b[0m\n\u001b[1;32m     27\u001b[0m             \u001b[0mattention_output\u001b[0m\u001b[0;34m.\u001b[0m\u001b[0mappend\u001b[0m\u001b[0;34m(\u001b[0m\u001b[0mx\u001b[0m\u001b[0;34m)\u001b[0m\u001b[0;34m\u001b[0m\u001b[0;34m\u001b[0m\u001b[0m\n",
            "\u001b[0;32m/usr/local/lib/python3.9/dist-packages/torch/nn/modules/module.py\u001b[0m in \u001b[0;36m_call_impl\u001b[0;34m(self, *input, **kwargs)\u001b[0m\n\u001b[1;32m   1192\u001b[0m         if not (self._backward_hooks or self._forward_hooks or self._forward_pre_hooks or _global_backward_hooks\n\u001b[1;32m   1193\u001b[0m                 or _global_forward_hooks or _global_forward_pre_hooks):\n\u001b[0;32m-> 1194\u001b[0;31m             \u001b[0;32mreturn\u001b[0m \u001b[0mforward_call\u001b[0m\u001b[0;34m(\u001b[0m\u001b[0;34m*\u001b[0m\u001b[0minput\u001b[0m\u001b[0;34m,\u001b[0m \u001b[0;34m**\u001b[0m\u001b[0mkwargs\u001b[0m\u001b[0;34m)\u001b[0m\u001b[0;34m\u001b[0m\u001b[0;34m\u001b[0m\u001b[0m\n\u001b[0m\u001b[1;32m   1195\u001b[0m         \u001b[0;31m# Do not call functions when jit is used\u001b[0m\u001b[0;34m\u001b[0m\u001b[0;34m\u001b[0m\u001b[0m\n\u001b[1;32m   1196\u001b[0m         \u001b[0mfull_backward_hooks\u001b[0m\u001b[0;34m,\u001b[0m \u001b[0mnon_full_backward_hooks\u001b[0m \u001b[0;34m=\u001b[0m \u001b[0;34m[\u001b[0m\u001b[0;34m]\u001b[0m\u001b[0;34m,\u001b[0m \u001b[0;34m[\u001b[0m\u001b[0;34m]\u001b[0m\u001b[0;34m\u001b[0m\u001b[0;34m\u001b[0m\u001b[0m\n",
            "\u001b[0;32m<ipython-input-4-516e431281d9>\u001b[0m in \u001b[0;36mforward\u001b[0;34m(self, input)\u001b[0m\n\u001b[1;32m     43\u001b[0m         \u001b[0;32mfor\u001b[0m \u001b[0mbatch\u001b[0m \u001b[0;32min\u001b[0m \u001b[0mrange\u001b[0m\u001b[0;34m(\u001b[0m\u001b[0minput\u001b[0m\u001b[0;34m.\u001b[0m\u001b[0msize\u001b[0m\u001b[0;34m(\u001b[0m\u001b[0;36m0\u001b[0m\u001b[0;34m)\u001b[0m\u001b[0;34m)\u001b[0m\u001b[0;34m:\u001b[0m\u001b[0;34m\u001b[0m\u001b[0;34m\u001b[0m\u001b[0m\n\u001b[1;32m     44\u001b[0m \u001b[0;34m\u001b[0m\u001b[0m\n\u001b[0;32m---> 45\u001b[0;31m             \u001b[0minput_data\u001b[0m \u001b[0;34m=\u001b[0m \u001b[0minput\u001b[0m\u001b[0;34m[\u001b[0m\u001b[0mbatch\u001b[0m\u001b[0;34m]\u001b[0m \u001b[0;31m# (Channels, Height, Width)\u001b[0m\u001b[0;34m\u001b[0m\u001b[0;34m\u001b[0m\u001b[0m\n\u001b[0m\u001b[1;32m     46\u001b[0m \u001b[0;34m\u001b[0m\u001b[0m\n\u001b[1;32m     47\u001b[0m             \u001b[0mx_weights\u001b[0m \u001b[0;34m=\u001b[0m \u001b[0minput_data\u001b[0m \u001b[0;34m*\u001b[0m \u001b[0mself\u001b[0m\u001b[0;34m.\u001b[0m\u001b[0mx_weights\u001b[0m\u001b[0;34m\u001b[0m\u001b[0;34m\u001b[0m\u001b[0m\n",
            "\u001b[0;31mKeyboardInterrupt\u001b[0m: "
          ]
        }
      ],
      "source": [
        "for epoch in range(EPOCHS):\n",
        "\n",
        "    attention_epoch_loss = 0.\n",
        "\n",
        "    for item, (image, target) in enumerate(train_loader):\n",
        "\n",
        "        attention_model.zero_grad()\n",
        "\n",
        "        image, target = image.to(device), target.to(device)\n",
        "\n",
        "        attention_output = attention_model(image)\n",
        "\n",
        "        attention_loss = loss(attention_output, target)\n",
        "\n",
        "        attention_losses.append(attention_loss.item())\n",
        "\n",
        "        attention_epoch_loss += attention_loss.item()\n",
        "\n",
        "        attention_loss.backward()\n",
        "\n",
        "        attention_gradients_avg = torch.mean(attention_model.attention1.attention_heads[0].x_weights.grad)\n",
        "        attention_gradients.append(attention_gradients_avg.cpu())\n",
        "\n",
        "        optimizer_attention.step()\n",
        "        optimizer_rest.step()\n",
        "\n",
        "        iters += 1\n",
        "\n",
        "    if epoch % 1 == 0:\n",
        "\n",
        "        total = 0.\n",
        "        correct_attention = 0.\n",
        "\n",
        "        for item, (image, target) in enumerate(test_loader):\n",
        "\n",
        "            image, target = image.to(device), target.to(device)\n",
        "\n",
        "            with torch.no_grad():\n",
        "                attention_output = attention_model(image)\n",
        "\n",
        "            total += len(target)\n",
        "\n",
        "            _, attention_output = torch.max(attention_output, 1)\n",
        "\n",
        "            correct_attention += (attention_output == target).sum()\n",
        "\n",
        "        attention_accuracy = (correct_attention/total)*100\n",
        "        attention_accuracies.append(attention_accuracy.cpu())\n",
        "\n",
        "\n",
        "        print(f\"{epoch+1}/{EPOCHS}\")\n",
        "        print(f\"Attention Model Loss: {attention_epoch_loss}\\tAttention Model Accuracy: {attention_accuracy}\")\n",
        "        print(f\"Attention Gradients: {attention_gradients[-1]}\")"
      ]
    },
    {
      "cell_type": "code",
      "execution_count": null,
      "metadata": {
        "colab": {
          "base_uri": "https://localhost:8080/",
          "height": 545
        },
        "id": "mO5eDAfaSTaf",
        "outputId": "bd3cc4ac-1d11-4f34-dd89-d7f283b34d15"
      },
      "outputs": [
        {
          "data": {
            "image/png": "[encoded data removed]",
            "text/plain": [
              "<Figure size 432x288 with 1 Axes>"
            ]
          },
          "metadata": {},
          "output_type": "display_data"
        },
        {
          "data": {
            "text/plain": [
              "<Figure size 432x288 with 0 Axes>"
            ]
          },
          "metadata": {},
          "output_type": "display_data"
        },
        {
          "data": {
            "image/png": "[encoded data removed]",
            "text/plain": [
              "<Figure size 432x288 with 20 Axes>"
            ]
          },
          "metadata": {},
          "output_type": "display_data"
        }
      ],
      "source": [
        "image, _ = next(iter(train_loader))\n",
        "\n",
        "image = image.to(device)\n",
        "\n",
        "visualize_outputs(visual_model, image)"
      ]
    },
    {
      "cell_type": "code",
      "execution_count": null,
      "metadata": {
        "colab": {
          "base_uri": "https://localhost:8080/",
          "height": 297
        },
        "id": "s19lfeP7s67r",
        "outputId": "b3fd62d2-311b-4f54-c0ec-08a28835fbfe"
      },
      "outputs": [
        {
          "data": {
            "image/png": "[encoded data removed]",
            "text/plain": [
              "<Figure size 432x288 with 3 Axes>"
            ]
          },
          "metadata": {},
          "output_type": "display_data"
        }
      ],
      "source": [
        "fig, ax = plt.subplots(3,1)\n",
        "\n",
        "ax[0].plot(torch.arange(0, iters), attention_losses)\n",
        "ax[0].set_title(\"Attention Losses\")\n",
        "ax[1].plot(torch.arange(0, EPOCHS), attention_accuracies)\n",
        "ax[1].set_title(\"Attention Accuracy %\")\n",
        "ax[2].plot(torch.arange(0, iters), attention_gradients)\n",
        "ax[2].set_title(\"Attention Gradients Average\")\n",
        "\n",
        "fig.tight_layout()"
      ]
    },
    {
      "cell_type": "code",
      "execution_count": null,
      "metadata": {
        "colab": {
          "base_uri": "https://localhost:8080/"
        },
        "id": "PeRU-Sf6wk5H",
        "outputId": "bb108d9a-4179-40b8-fe55-2ae1f8fa53ba"
      },
      "outputs": [
        {
          "name": "stdout",
          "output_type": "stream",
          "text": [
            "tensor([[[ 3.9580e-03, -3.8311e-02, -4.8303e-02,  4.6477e-03,  1.5203e-02,\n",
            "           5.6363e-03,  1.1775e-02, -2.4465e-02, -8.8327e-03, -1.5764e-02,\n",
            "          -6.9641e-03, -2.8125e-02,  5.8256e-04,  9.9349e-03, -1.8685e-03,\n",
            "           4.0085e-02, -1.7161e-02,  3.3077e-02, -2.6377e-02, -2.5816e-02,\n",
            "          -1.8063e-02,  5.5029e-02,  1.0299e-02,  6.2226e-03,  1.8526e-02,\n",
            "          -2.5174e-02, -8.5081e-03,  1.5881e-02],\n",
            "         [ 9.1622e-03,  2.2029e-03,  1.9056e-02,  1.2615e-02,  1.1594e-02,\n",
            "           8.7708e-03, -1.3844e-02, -1.1698e-02,  3.1973e-02, -2.2967e-02,\n",
            "          -4.6836e-03, -2.9616e-02, -2.1678e-02, -1.7868e-03, -1.1629e-02,\n",
            "          -2.9500e-03,  2.5508e-02,  1.0748e-03,  6.1239e-03, -5.9840e-03,\n",
            "          -1.7180e-02,  3.3663e-02, -7.5372e-03, -1.2432e-02,  1.3800e-02,\n",
            "          -2.6459e-02, -4.1998e-02,  1.2356e-02],\n",
            "         [ 5.1423e-04, -1.4945e-03,  1.8340e-02, -2.9343e-02,  1.1985e-02,\n",
            "          -1.8815e-02,  1.9396e-02, -5.2649e-02, -8.5503e-03, -1.9556e-02,\n",
            "           2.0661e-02, -4.8926e-03, -3.1507e-02,  3.1007e-02,  1.4507e-02,\n",
            "           1.2698e-02,  1.2910e-02,  3.2268e-03,  1.9200e-02,  6.1759e-02,\n",
            "           5.3357e-02, -1.0031e-02, -7.8583e-03,  2.6498e-03,  6.3469e-03,\n",
            "           8.9778e-03, -1.6632e-03,  3.1350e-03],\n",
            "         [-3.2737e-03,  3.1014e-02,  1.1328e-03, -9.2878e-03,  7.7555e-04,\n",
            "          -1.9734e-02, -1.4246e-02, -9.0944e-03, -2.6987e-02,  6.9031e-04,\n",
            "          -5.7915e-03, -1.5455e-02,  4.0957e-04,  1.0051e-02, -1.5165e-02,\n",
            "          -2.5352e-02,  2.5502e-03,  2.0414e-02, -4.1968e-03,  8.6113e-03,\n",
            "          -1.5375e-02, -7.2733e-03, -3.4501e-03,  1.2808e-02, -1.8335e-03,\n",
            "           1.2604e-02,  7.9044e-03, -1.5486e-02],\n",
            "         [ 2.4436e-02,  5.8245e-03, -1.0149e-02,  8.4678e-03,  2.8904e-02,\n",
            "           1.5168e-02,  2.2550e-02,  2.7180e-02,  3.3357e-03,  4.4789e-02,\n",
            "          -1.7469e-02,  5.2141e-03,  5.5846e-03,  3.5076e-02,  3.2023e-02,\n",
            "          -1.4866e-02, -3.3395e-02,  6.1095e-02, -9.7803e-03, -2.2014e-02,\n",
            "          -7.0548e-03, -2.5246e-02,  1.7605e-03, -7.6012e-03,  3.9816e-02,\n",
            "          -1.1236e-02, -4.8398e-02,  2.6813e-02],\n",
            "         [ 3.1519e-03,  2.3098e-03, -6.8888e-03,  5.6831e-03, -3.4857e-02,\n",
            "          -3.1617e-02, -2.6711e-02,  4.7784e-02,  2.0630e-02, -1.3099e-02,\n",
            "           2.1205e-02, -2.7956e-02, -4.2103e-03, -3.5494e-03,  2.7062e-02,\n",
            "           5.4366e-03, -4.8703e-02, -9.1151e-03,  1.6794e-02, -5.6414e-03,\n",
            "          -4.1490e-03, -1.0380e-02, -1.0173e-02, -9.5336e-03,  7.5582e-03,\n",
            "           1.5832e-02,  1.4124e-02, -1.6208e-02],\n",
            "         [ 1.5067e-02,  3.6869e-02, -1.7514e-02, -1.0838e-02, -2.2346e-02,\n",
            "          -1.2426e-02, -3.0689e-03, -9.2580e-03,  3.7044e-02,  8.4820e-05,\n",
            "           7.5965e-03,  8.4726e-04,  1.6593e-02,  8.5462e-03,  1.9161e-03,\n",
            "           1.9540e-03,  7.3328e-03,  2.7790e-02, -2.7085e-02,  3.4797e-02,\n",
            "          -3.4932e-02,  2.5112e-02,  2.1918e-02, -1.0281e-02, -2.0921e-02,\n",
            "           5.7711e-03, -2.1279e-02,  8.2716e-03],\n",
            "         [-8.8925e-03,  1.3824e-02,  2.8815e-02, -4.9187e-03, -2.4180e-02,\n",
            "           2.3468e-02,  3.1406e-02, -2.1674e-02, -1.6113e-02,  4.0235e-02,\n",
            "           2.7917e-02,  1.4702e-02,  3.1036e-03,  1.4114e-02,  4.8285e-02,\n",
            "           3.1573e-03, -1.8701e-02, -2.9988e-02,  2.0589e-02,  4.7430e-03,\n",
            "          -2.5409e-02,  3.0083e-02, -3.5242e-04,  3.1198e-02, -6.8475e-03,\n",
            "          -7.2893e-03, -9.5733e-03, -8.7476e-03],\n",
            "         [-3.0254e-02,  6.6125e-03, -9.4080e-04,  1.8376e-02, -1.9772e-02,\n",
            "          -4.6243e-02, -1.2503e-02, -4.0030e-03, -1.5087e-02, -9.6223e-03,\n",
            "           2.1619e-02, -2.7833e-02,  2.6387e-02, -2.6756e-02,  9.2072e-03,\n",
            "          -2.6911e-02, -1.0761e-02,  8.7742e-03,  2.0964e-02, -8.7027e-03,\n",
            "           1.7067e-02, -3.6051e-02, -4.0179e-02,  2.8929e-02, -7.4563e-03,\n",
            "           2.1325e-02,  3.9027e-02,  3.0244e-03],\n",
            "         [ 4.5701e-02,  2.7495e-02, -1.4757e-02,  3.8467e-02,  3.0387e-02,\n",
            "          -1.1803e-02, -6.5506e-03, -1.5830e-02,  1.9566e-02,  6.4723e-03,\n",
            "           3.2722e-02,  2.8812e-02,  1.2189e-02, -9.4801e-03,  1.2298e-02,\n",
            "          -2.6113e-02, -2.8500e-02, -1.2313e-02,  1.4097e-02,  6.6618e-03,\n",
            "          -3.5106e-02,  1.1670e-02,  3.0122e-02, -1.8517e-02,  4.0692e-02,\n",
            "           9.3415e-03, -1.1672e-02,  1.6340e-02],\n",
            "         [-2.0357e-02,  1.0296e-02, -8.2302e-03, -2.2682e-02,  5.5162e-04,\n",
            "           2.4810e-02, -3.3069e-02, -3.9704e-03, -1.4569e-02,  7.4856e-03,\n",
            "          -1.8453e-02,  1.8154e-03,  8.0148e-03, -5.1600e-03,  8.1728e-03,\n",
            "           3.1083e-02, -1.6032e-03,  5.4114e-03, -5.0606e-02,  3.4569e-02,\n",
            "          -2.5981e-02,  4.2987e-04, -8.2797e-03, -4.6753e-02, -1.0427e-02,\n",
            "           4.3336e-03, -4.3262e-03, -3.1582e-03],\n",
            "         [ 2.6836e-02,  2.4500e-02,  3.4390e-03,  2.5967e-02,  1.0641e-02,\n",
            "           8.3907e-03, -1.6448e-02,  2.1769e-02,  5.6166e-03,  2.0427e-02,\n",
            "          -2.4486e-02, -1.3346e-02, -2.1427e-02,  1.5904e-02, -3.1547e-02,\n",
            "          -4.1139e-02,  3.7864e-02,  6.9391e-03,  1.4706e-02, -5.2899e-02,\n",
            "          -2.5846e-03, -1.3306e-02, -5.3334e-04,  8.7461e-03,  1.3465e-02,\n",
            "           1.0279e-02,  1.0951e-02,  2.0927e-02],\n",
            "         [-2.8867e-02,  1.4409e-02,  1.2700e-02,  1.2365e-02, -2.7486e-02,\n",
            "           7.3867e-03, -1.1141e-02, -3.2341e-02, -2.6010e-03, -3.5339e-02,\n",
            "           5.4197e-03, -3.7255e-02, -2.4749e-02,  1.6072e-02, -5.1126e-02,\n",
            "           1.6494e-02,  1.3670e-02,  1.9533e-02, -1.6833e-02, -1.9380e-02,\n",
            "          -7.4237e-03, -1.1645e-02, -4.8021e-03, -8.6736e-03,  8.9684e-03,\n",
            "          -1.6318e-02,  1.9842e-02, -1.5802e-02],\n",
            "         [-6.9592e-03,  1.8330e-02,  9.7666e-03,  7.5968e-03, -2.5288e-02,\n",
            "           1.0814e-02,  2.7744e-02, -9.2711e-03, -1.4681e-02,  1.6321e-02,\n",
            "           1.1430e-02,  6.7623e-04, -1.2385e-02, -1.5917e-02,  3.7375e-02,\n",
            "           2.8145e-02,  1.4719e-02,  4.0145e-02, -8.8724e-03, -1.2107e-02,\n",
            "          -1.5199e-02,  1.6028e-02,  1.8548e-02, -1.3733e-03,  1.7645e-02,\n",
            "          -7.3973e-03, -5.8946e-03, -8.5230e-03],\n",
            "         [ 4.5543e-03,  1.4911e-02,  3.5691e-03, -2.3721e-02,  1.1392e-02,\n",
            "           4.7142e-04,  1.9075e-02, -3.7806e-02, -9.5025e-03, -4.3968e-02,\n",
            "           2.1874e-02, -7.9524e-03, -2.4979e-02,  1.4090e-02,  9.1225e-04,\n",
            "           2.2145e-02,  4.1016e-02, -8.3030e-03,  5.1144e-03,  2.9387e-02,\n",
            "           7.1430e-03,  3.4112e-02,  8.6127e-03,  1.5898e-02,  2.1987e-02,\n",
            "          -1.2999e-02, -2.5297e-02, -6.3949e-02],\n",
            "         [ 9.3445e-03,  3.0533e-02,  8.4224e-03, -6.6267e-03, -4.2155e-03,\n",
            "          -1.5030e-03, -2.0922e-04,  6.2779e-03,  2.7399e-02, -2.3238e-03,\n",
            "           2.6123e-03, -1.5887e-02, -2.7620e-02,  3.7475e-02, -1.3856e-02,\n",
            "          -2.3320e-02, -4.1520e-03,  2.2984e-02,  1.0410e-02, -3.8673e-03,\n",
            "          -2.8039e-02, -2.0684e-02, -2.2540e-03,  2.0855e-02,  1.1558e-03,\n",
            "          -1.8292e-02, -2.4422e-02, -3.2660e-03],\n",
            "         [ 1.4403e-02,  9.8000e-04, -3.6650e-02, -2.9725e-03, -1.8242e-02,\n",
            "           4.1497e-02,  2.8560e-02,  6.7305e-03,  3.0231e-02, -9.0304e-03,\n",
            "          -1.3189e-02,  1.7495e-03, -1.0668e-02,  1.1764e-02, -9.4035e-03,\n",
            "          -3.4653e-02,  3.6474e-04, -1.9376e-02, -6.2252e-03, -2.3390e-02,\n",
            "           1.8508e-02,  8.9709e-03, -1.0042e-02, -1.3808e-03,  2.1449e-02,\n",
            "           2.3772e-02, -7.8871e-03,  1.4946e-02],\n",
            "         [ 6.9065e-03,  4.0891e-03, -3.2967e-02, -7.2367e-04, -4.7675e-02,\n",
            "           2.7629e-02, -1.6476e-02,  1.4196e-02,  3.3390e-03,  2.0180e-02,\n",
            "          -2.7472e-02,  4.5656e-03,  3.3340e-02, -2.5883e-02,  1.9496e-02,\n",
            "           8.3814e-03,  6.0033e-03,  3.5357e-02,  2.1423e-02,  1.0627e-02,\n",
            "           1.0899e-02, -4.5387e-03, -2.0697e-02,  1.6756e-02,  2.1677e-02,\n",
            "          -4.9186e-03,  2.5755e-02,  1.2895e-02],\n",
            "         [ 1.4541e-02,  1.6264e-02,  1.4451e-03,  1.7573e-02,  3.0992e-02,\n",
            "           2.6530e-02, -1.3871e-03, -3.6601e-03,  1.2737e-02,  1.6324e-02,\n",
            "          -1.9318e-03, -1.2660e-02, -6.9411e-03, -1.4355e-02, -3.1410e-02,\n",
            "          -1.5397e-03, -1.2030e-04, -5.4884e-02,  1.4763e-02, -1.0012e-02,\n",
            "          -1.0814e-02, -2.6607e-02, -9.7346e-03,  1.0941e-02,  2.1752e-02,\n",
            "          -1.8335e-03, -4.1132e-02,  3.8006e-03],\n",
            "         [ 6.1729e-03,  1.9722e-02,  2.6816e-03,  8.9318e-03,  3.3122e-03,\n",
            "          -5.2768e-02, -7.4708e-03,  1.1509e-02,  1.3720e-02,  2.5427e-02,\n",
            "          -2.6141e-02, -4.2503e-02,  1.8163e-02, -1.7082e-03,  1.2882e-02,\n",
            "          -3.2320e-02, -1.5607e-02,  4.5849e-02,  1.2762e-02,  4.3651e-03,\n",
            "           3.1355e-02, -1.1777e-02,  2.7378e-02, -1.1568e-02,  3.9096e-02,\n",
            "          -2.3512e-02,  2.0213e-02, -3.6967e-02],\n",
            "         [-2.6328e-03,  7.3563e-03, -1.0519e-02, -1.6864e-02,  3.1609e-02,\n",
            "          -1.3232e-02, -2.9138e-02,  8.8760e-03, -2.0120e-02,  3.3029e-02,\n",
            "          -9.4595e-03, -2.6646e-02,  2.3492e-02,  9.9345e-03,  1.4794e-02,\n",
            "           1.2269e-02,  3.3210e-02,  1.1102e-02,  1.9195e-02, -1.0529e-03,\n",
            "          -1.0763e-02, -8.9922e-03, -8.0261e-03,  2.1524e-03,  1.1480e-02,\n",
            "           5.3515e-03,  6.3339e-03, -1.1071e-02],\n",
            "         [-1.9875e-03, -1.0652e-02,  7.2326e-03, -1.9415e-03,  1.5199e-02,\n",
            "           1.3631e-02,  1.0288e-02, -1.1041e-02,  1.8385e-02,  1.3316e-02,\n",
            "           9.0968e-03, -9.4166e-03,  9.7281e-03, -7.4368e-03, -2.3527e-04,\n",
            "           3.9759e-03,  1.9948e-02,  5.8678e-03,  1.0764e-02, -1.9576e-02,\n",
            "          -3.6006e-02,  2.3939e-02, -4.3303e-02, -1.3436e-02,  5.0953e-03,\n",
            "           1.3079e-02,  6.8309e-03, -2.2482e-02],\n",
            "         [ 1.7099e-02, -3.8624e-02,  3.0325e-02,  1.1850e-02, -2.2974e-04,\n",
            "           1.3516e-02,  3.9088e-03,  3.8738e-02, -4.9173e-02, -2.3871e-02,\n",
            "          -7.5836e-04,  1.6107e-03, -4.7879e-02, -6.4706e-03,  2.5385e-02,\n",
            "           1.0536e-02,  6.2246e-03, -7.3996e-03,  3.3843e-03,  1.7689e-02,\n",
            "          -2.4735e-02,  6.8722e-03, -3.5341e-02,  5.7924e-03, -2.5975e-02,\n",
            "          -3.4328e-03, -2.7792e-03, -1.3018e-02],\n",
            "         [ 1.6334e-02, -2.9027e-02, -3.5707e-03, -2.0987e-02,  5.0336e-03,\n",
            "          -1.2124e-02,  1.1926e-02, -1.1152e-02, -1.6681e-02,  9.3622e-03,\n",
            "           3.7395e-02, -4.6134e-02, -8.0484e-03,  3.5134e-02, -7.2966e-03,\n",
            "          -1.7658e-02, -1.3914e-03,  3.6948e-02, -2.3820e-02,  2.7432e-02,\n",
            "          -2.9051e-02, -1.0887e-02,  8.4564e-04, -3.9939e-02, -2.5472e-02,\n",
            "           1.3228e-02, -5.0434e-03, -5.6710e-03],\n",
            "         [-4.5022e-02,  2.0854e-02,  1.7671e-02, -3.0505e-02,  1.8546e-02,\n",
            "           1.5237e-02, -1.1004e-02,  2.1929e-02,  2.7661e-02, -1.7567e-04,\n",
            "          -5.4126e-03,  3.0235e-02, -4.5690e-02,  1.3744e-03, -1.3135e-03,\n",
            "          -1.3099e-02, -9.6665e-03,  3.5679e-02, -2.5876e-02, -1.5747e-02,\n",
            "           3.2442e-02,  4.6724e-02,  1.1259e-02,  4.4273e-03, -4.4024e-03,\n",
            "           2.7764e-02, -3.8140e-03, -1.7207e-04],\n",
            "         [ 4.6124e-03,  1.2297e-03,  2.5764e-02, -2.0598e-02,  1.8695e-02,\n",
            "           2.9851e-02,  1.0412e-02, -3.0216e-02, -2.1475e-02, -6.2200e-03,\n",
            "          -2.0226e-02,  1.6073e-02, -8.6926e-03, -1.4928e-02,  2.7163e-02,\n",
            "          -4.8150e-02, -7.0501e-03, -1.2217e-02,  1.3264e-02,  2.8709e-02,\n",
            "          -5.3896e-03, -8.5092e-03, -7.4903e-03,  5.9784e-03,  7.9607e-03,\n",
            "          -3.0375e-03,  2.0253e-02,  4.3490e-03],\n",
            "         [-5.9666e-03,  2.4535e-02,  8.8850e-03,  1.7314e-02,  3.2027e-02,\n",
            "          -1.9852e-02,  1.4923e-02,  2.1900e-02,  1.9352e-03,  1.4657e-02,\n",
            "          -2.0175e-02,  1.7959e-02,  1.9781e-02, -1.5387e-02, -6.9605e-03,\n",
            "          -3.8512e-03,  2.0245e-02, -6.5141e-03,  1.7580e-02, -9.5346e-03,\n",
            "           4.4246e-03,  5.1663e-02,  1.5032e-02, -3.5356e-02, -1.7557e-02,\n",
            "          -5.7855e-03, -1.9496e-02, -2.0637e-02],\n",
            "         [ 8.6298e-03, -4.0758e-03, -9.1964e-03, -2.6732e-04,  4.3522e-02,\n",
            "           5.9255e-03,  1.4494e-02,  2.1773e-02,  6.8111e-03,  2.8765e-02,\n",
            "          -2.1501e-04,  1.2542e-02, -8.9097e-03, -1.8748e-03,  3.0135e-02,\n",
            "          -1.5735e-02,  3.5473e-02, -5.8066e-03, -4.3591e-03, -5.2443e-03,\n",
            "           2.0400e-02,  3.1139e-02, -5.2581e-03, -3.0503e-02,  1.6257e-02,\n",
            "          -7.6182e-03, -1.4549e-02, -3.2770e-02]]], device='cuda:0',\n",
            "       requires_grad=True)\n",
            "tensor(0.0007, device='cuda:0', grad_fn=<MeanBackward0>)\n",
            "tensor(0.0208, device='cuda:0', grad_fn=<StdBackward0>)\n"
          ]
        }
      ],
      "source": [
        "print(attention_model.attention1.attention_heads[0].x_weights)\n",
        "print(attention_model.attention1.attention_heads[0].x_weights.mean())\n",
        "print(attention_model.attention1.attention_heads[0].x_weights.std())"
      ]
    },
    {
      "cell_type": "code",
      "execution_count": null,
      "metadata": {
        "colab": {
          "base_uri": "https://localhost:8080/"
        },
        "id": "vqZ2uP9Zw8yC",
        "outputId": "672ca005-36bc-43df-c606-c1dec3ca475b"
      },
      "outputs": [
        {
          "name": "stdout",
          "output_type": "stream",
          "text": [
            "tensor([[[ 4.1059e-02, -3.3618e-02, -3.1608e-03,  3.1975e-02, -5.8916e-03,\n",
            "           2.8771e-02, -5.8798e-03,  1.0499e-02,  1.6056e-02, -2.7055e-02,\n",
            "           6.6590e-03,  3.6089e-02, -1.4131e-02, -4.2388e-02,  1.1172e-02,\n",
            "           3.2053e-02,  1.5298e-03, -5.9169e-03, -7.2347e-03,  1.8987e-02,\n",
            "          -1.6103e-02,  9.0733e-03, -1.6198e-03, -2.6866e-04, -2.8581e-02,\n",
            "          -6.4811e-03, -6.9868e-03, -5.3974e-04],\n",
            "         [-1.0974e-02,  2.3287e-02, -4.9397e-03, -3.9535e-02,  3.1771e-02,\n",
            "           6.6632e-03,  3.9144e-02, -3.3812e-02,  3.9380e-04,  1.8462e-02,\n",
            "           1.3653e-02, -1.6114e-02,  3.3720e-02, -9.2744e-03, -1.4125e-02,\n",
            "           1.4099e-03, -2.9260e-02,  5.5338e-03,  3.1859e-02,  2.9661e-04,\n",
            "          -3.0140e-02, -2.4108e-02, -2.8784e-02,  2.8278e-02,  7.9841e-03,\n",
            "          -1.9659e-02, -2.7309e-03, -1.2237e-02],\n",
            "         [ 3.4974e-02, -1.9654e-02,  1.6207e-02,  3.6370e-02, -9.7320e-03,\n",
            "          -2.4427e-02, -2.4399e-02,  4.4131e-03,  7.6258e-03, -2.7711e-03,\n",
            "          -2.0926e-02,  1.0341e-02, -1.4485e-02, -1.6515e-02,  2.7022e-02,\n",
            "           1.8134e-02,  1.6459e-02, -5.0599e-02,  1.5571e-02, -1.4318e-03,\n",
            "           1.1709e-02,  1.9320e-02, -4.9844e-03, -1.4109e-02, -7.7890e-03,\n",
            "          -2.5068e-02, -1.5816e-02, -1.1368e-03],\n",
            "         [ 4.4391e-03, -2.4968e-02, -2.6614e-02, -2.5347e-02,  7.8864e-03,\n",
            "           3.1027e-02,  2.5568e-02, -1.5901e-02, -2.7255e-03,  3.6941e-02,\n",
            "           1.8125e-02, -2.6619e-02, -7.0593e-03,  1.1109e-02,  2.1233e-02,\n",
            "           2.7775e-02, -1.5081e-02,  1.4270e-02,  1.6582e-02,  2.4695e-03,\n",
            "           2.2349e-02,  4.3586e-02,  2.4867e-02,  2.2426e-02, -1.2360e-03,\n",
            "          -2.8578e-02,  2.2830e-02,  4.7493e-03],\n",
            "         [ 3.1650e-02,  3.4151e-02,  8.1478e-03,  2.6369e-02, -2.4405e-02,\n",
            "           9.8051e-03,  1.6679e-02, -1.8253e-02,  2.6221e-02, -6.0441e-03,\n",
            "          -7.7191e-03,  1.2459e-02, -4.4938e-03,  1.3249e-02, -1.5002e-02,\n",
            "           2.7214e-02, -1.0420e-02,  1.1017e-02,  2.3208e-02, -1.4257e-02,\n",
            "          -1.6844e-02, -2.6540e-02, -1.2251e-03,  6.1090e-03, -2.6386e-02,\n",
            "          -9.5719e-03,  6.1052e-03, -2.6982e-02],\n",
            "         [-2.1823e-02,  1.4363e-02,  1.1289e-02,  6.6194e-04, -1.6322e-02,\n",
            "          -4.3558e-03, -4.2383e-02, -4.1720e-03, -4.3834e-02, -2.7981e-02,\n",
            "           8.5479e-03, -9.9081e-03, -7.8232e-03, -1.9082e-02,  9.5894e-03,\n",
            "           5.5391e-03,  3.2739e-03,  7.7239e-03, -3.6595e-02,  9.6843e-03,\n",
            "           3.6888e-03, -1.6779e-02, -2.5557e-02,  1.2420e-03, -2.9750e-02,\n",
            "           2.0056e-02,  1.9463e-02, -1.1136e-02],\n",
            "         [ 6.9607e-03, -2.0837e-02,  3.2939e-02,  3.2642e-02,  4.9354e-03,\n",
            "           2.3788e-02,  2.3863e-03,  3.9370e-03,  2.8508e-02, -2.3674e-03,\n",
            "           6.3126e-03, -2.1833e-02, -1.2822e-03,  4.5343e-03,  3.6101e-02,\n",
            "           6.9077e-03, -4.4374e-03, -7.4250e-03,  1.6981e-02,  1.3711e-02,\n",
            "          -2.1578e-03, -1.8440e-02,  4.0596e-02, -4.2519e-04,  4.5149e-02,\n",
            "          -8.2332e-04, -2.0686e-02,  2.4565e-02],\n",
            "         [ 1.4224e-02, -1.8936e-02, -1.8413e-02, -8.4463e-03, -1.6147e-03,\n",
            "          -5.0047e-03,  5.0154e-03, -7.1792e-04,  7.3699e-03,  2.5207e-03,\n",
            "          -1.5751e-02, -1.7312e-02, -1.2752e-02,  3.9243e-03, -7.0769e-03,\n",
            "           8.5774e-03,  6.9298e-03,  5.4509e-02,  1.2185e-02, -1.7051e-02,\n",
            "          -1.2644e-02,  7.4695e-03,  9.9646e-03, -1.1536e-02, -1.0910e-02,\n",
            "           5.5565e-02, -7.1504e-03,  2.6527e-02],\n",
            "         [-1.7559e-02,  7.9997e-04, -2.2902e-02,  3.3489e-03,  1.3451e-02,\n",
            "           1.0880e-02, -6.5494e-03,  1.0165e-02, -3.9751e-02,  8.1125e-03,\n",
            "          -1.5258e-03,  3.2869e-02,  3.0575e-03,  9.9192e-03,  2.8344e-02,\n",
            "          -1.5330e-02, -2.0242e-02,  1.4107e-02,  7.3272e-03, -2.1960e-02,\n",
            "           2.2070e-02,  2.5113e-02,  6.3603e-03, -2.5428e-02,  2.5763e-02,\n",
            "          -1.2456e-03, -1.6117e-02, -7.1924e-03],\n",
            "         [-3.4729e-03, -6.7033e-03, -1.5796e-02,  2.5024e-03, -2.5061e-02,\n",
            "          -4.1182e-02, -1.6817e-02,  9.2847e-03,  6.3871e-03,  1.6836e-02,\n",
            "          -6.1872e-03,  7.8904e-04, -2.4685e-04,  2.4660e-02,  9.0156e-03,\n",
            "           5.2766e-03,  6.7932e-03,  1.0865e-02,  7.4008e-03, -1.1582e-02,\n",
            "           2.5740e-02,  1.1252e-02, -2.9528e-02,  2.1478e-02,  1.8013e-03,\n",
            "           1.6956e-03, -1.0391e-02,  3.4986e-02],\n",
            "         [ 3.1438e-03,  2.0560e-02, -3.4081e-03,  7.6408e-03, -5.4096e-02,\n",
            "           5.9692e-03, -7.6935e-03,  9.2904e-03, -2.7567e-02,  3.9608e-03,\n",
            "          -6.0135e-03, -2.3907e-02, -9.0564e-03, -1.1919e-02, -4.3878e-03,\n",
            "          -6.9415e-03, -1.1989e-02, -2.4356e-02,  2.0789e-02, -6.1073e-03,\n",
            "          -3.4516e-03,  2.4008e-02,  2.2261e-02,  1.4197e-02, -2.3439e-02,\n",
            "           3.6327e-02,  4.8974e-04, -4.9480e-02],\n",
            "         [-1.7222e-02,  5.0686e-02, -1.7634e-02, -1.8546e-02,  5.5074e-03,\n",
            "          -3.5683e-02, -2.1070e-02, -9.8522e-03,  8.3576e-03, -1.9480e-02,\n",
            "          -1.8348e-02,  2.3199e-02,  1.6022e-02, -1.7967e-02,  2.2175e-02,\n",
            "           2.1050e-02, -3.6461e-02, -6.3128e-03,  2.2537e-02, -4.3385e-02,\n",
            "          -7.9858e-03,  7.3494e-03, -1.4446e-03, -2.9276e-03, -1.6087e-02,\n",
            "          -3.3164e-03,  1.5997e-02, -1.5384e-02],\n",
            "         [-1.4892e-02, -2.8622e-03, -2.8231e-02, -9.6962e-03, -3.2143e-02,\n",
            "           2.6508e-02,  1.8217e-02, -4.1158e-02, -2.6238e-02, -1.1630e-02,\n",
            "          -1.5201e-02,  6.0812e-03,  7.8786e-03, -9.0054e-03, -3.2934e-02,\n",
            "           1.1433e-02, -1.2511e-02,  1.0617e-02, -1.8384e-02,  1.6836e-02,\n",
            "           1.2890e-02, -2.4117e-02,  6.8726e-03,  3.2011e-03,  5.4397e-03,\n",
            "          -3.6183e-02,  1.1189e-02, -1.2173e-02],\n",
            "         [ 3.1392e-02, -9.7281e-05, -2.0099e-02,  1.1948e-02, -1.6283e-02,\n",
            "          -1.4834e-02, -3.2130e-02, -4.6252e-02,  2.0193e-02,  3.6727e-02,\n",
            "          -1.6020e-02,  1.4359e-02,  2.0778e-02,  8.4457e-03,  2.0128e-02,\n",
            "          -7.2991e-03,  1.2809e-02, -7.3311e-03, -1.7602e-02, -2.6084e-02,\n",
            "           5.8387e-02,  9.3144e-03, -1.5396e-02, -1.0433e-02,  2.5256e-02,\n",
            "           3.3135e-03,  2.3893e-02, -8.0512e-03],\n",
            "         [ 1.5361e-02,  2.4254e-02,  1.2357e-02,  7.9220e-03, -7.0562e-03,\n",
            "           2.1874e-02,  2.1739e-02, -1.5073e-02,  6.6958e-03,  2.4429e-02,\n",
            "           1.5414e-02,  4.5209e-03,  1.2467e-02, -7.9596e-03,  1.8934e-02,\n",
            "           2.7895e-02,  9.6442e-03,  2.1239e-02, -3.3648e-03,  4.7799e-02,\n",
            "           1.0571e-02, -1.3255e-02,  1.8182e-02,  8.3190e-03,  2.1115e-02,\n",
            "           1.6291e-02, -1.6315e-02,  9.8929e-06],\n",
            "         [-2.0822e-02, -3.2131e-02, -2.3709e-02,  2.2364e-02,  1.7527e-02,\n",
            "          -1.0122e-02,  2.6169e-02,  3.8577e-03, -1.8516e-03,  4.1679e-02,\n",
            "          -2.9039e-03, -2.0959e-02,  2.9788e-02, -1.7411e-02, -3.7788e-02,\n",
            "          -6.4209e-03, -9.6770e-03,  8.6931e-03,  2.3089e-02, -3.2781e-02,\n",
            "           1.8602e-02,  1.4069e-02, -2.8457e-03,  1.8397e-02,  1.4326e-02,\n",
            "           2.1591e-02,  3.2998e-02, -2.2776e-02],\n",
            "         [-2.2068e-03, -1.5973e-02, -1.7140e-02, -5.2287e-03,  3.6755e-02,\n",
            "           1.0351e-02,  2.3755e-02,  7.8204e-03,  1.8236e-02, -2.9023e-02,\n",
            "           9.8335e-04,  2.6986e-02,  1.9417e-02, -2.0913e-04,  9.8117e-03,\n",
            "           1.9829e-02, -4.4333e-03, -3.8093e-02, -3.6882e-03, -4.9450e-02,\n",
            "           2.9509e-02,  3.4372e-02,  3.5890e-02, -2.0428e-03, -1.7394e-02,\n",
            "          -1.2366e-02, -1.3493e-02, -1.1117e-02],\n",
            "         [-6.3154e-03, -8.3102e-03, -1.1027e-02, -1.3735e-02, -1.7064e-02,\n",
            "           2.5928e-03, -1.9145e-02,  4.2468e-03, -1.8609e-02,  4.0063e-03,\n",
            "           2.6844e-02, -4.6445e-03, -2.4743e-02,  1.1687e-02,  3.4502e-02,\n",
            "           4.3733e-03,  5.9675e-03, -5.9166e-03,  1.6743e-02, -2.9725e-03,\n",
            "           3.7308e-03,  1.3327e-02,  1.3875e-02, -1.3898e-02,  2.0706e-03,\n",
            "          -1.0363e-02,  1.0033e-02,  1.8937e-03],\n",
            "         [ 2.7849e-02,  1.3975e-02,  4.2268e-03, -3.8514e-03,  5.0763e-02,\n",
            "          -5.6247e-03,  3.6544e-02, -4.7939e-03,  2.0025e-03, -3.5548e-02,\n",
            "          -3.2252e-02,  1.0918e-02, -5.5105e-03, -2.0572e-02, -7.4351e-03,\n",
            "          -2.2390e-02,  1.4572e-02, -5.7057e-03,  1.7217e-04, -1.1850e-02,\n",
            "          -6.1919e-03, -2.4144e-04, -2.6532e-03,  2.2180e-02,  1.1189e-02,\n",
            "          -5.1657e-03,  1.2716e-02,  1.7263e-02],\n",
            "         [-2.8106e-03, -1.1400e-02, -1.0835e-02, -1.0481e-02, -1.5111e-02,\n",
            "           7.7814e-03, -2.4269e-02, -5.5845e-03, -2.7706e-02,  4.0903e-02,\n",
            "          -8.3543e-03,  1.3171e-02, -1.7828e-02, -9.7814e-03,  3.3217e-03,\n",
            "          -5.7075e-03,  3.4819e-02,  1.1021e-02,  1.8338e-02,  2.2178e-05,\n",
            "           2.9027e-02, -9.4930e-03,  2.2991e-02,  1.7195e-02,  1.0300e-02,\n",
            "          -2.2529e-03, -4.0845e-02,  2.6086e-02],\n",
            "         [-6.8559e-03,  1.0588e-02,  3.2763e-02, -1.3832e-02,  6.7154e-03,\n",
            "           2.7906e-03, -1.6925e-02, -1.8136e-02,  9.0262e-04, -5.0074e-03,\n",
            "           3.9685e-03, -4.2718e-03, -3.3751e-03, -1.3479e-02,  8.9818e-03,\n",
            "          -1.4059e-02, -2.1131e-02, -3.6906e-02,  2.5316e-02,  1.3470e-02,\n",
            "          -4.8950e-02, -3.0220e-02,  1.0583e-02, -1.7342e-03,  2.6556e-02,\n",
            "           4.9551e-04,  3.3576e-02, -8.9612e-03],\n",
            "         [-3.2587e-03, -1.1956e-02, -2.0544e-03,  1.1394e-02, -1.1750e-02,\n",
            "          -2.1923e-02,  2.3757e-02,  3.9704e-02, -1.1311e-02, -3.2011e-02,\n",
            "          -3.6691e-02,  2.1705e-03, -2.1527e-02,  3.3840e-02,  5.5149e-03,\n",
            "          -5.4435e-03, -1.2904e-02, -9.4085e-03, -2.7746e-02,  1.0031e-02,\n",
            "           6.5911e-04, -1.0855e-02, -1.2902e-03,  2.4194e-02, -2.7196e-02,\n",
            "           1.4350e-02, -4.5459e-02, -7.8212e-03],\n",
            "         [-1.5378e-02, -1.7871e-02, -3.9550e-02,  9.0618e-03,  1.0759e-02,\n",
            "          -2.0692e-03,  1.4114e-02,  2.4891e-03,  1.3279e-02,  7.2307e-03,\n",
            "          -4.9458e-02,  5.4235e-04,  7.7317e-03,  7.7976e-03,  2.2396e-02,\n",
            "          -3.5725e-03, -3.4658e-02, -2.6257e-02, -1.2150e-02, -2.0306e-03,\n",
            "           1.2857e-02,  5.9899e-03, -8.1513e-03, -1.7484e-02,  1.8086e-02,\n",
            "          -2.4254e-02,  1.5619e-02,  4.1180e-04],\n",
            "         [ 7.5624e-03, -1.4074e-02, -4.8246e-02,  4.0135e-03, -9.6695e-03,\n",
            "           1.4604e-02,  2.8153e-02, -2.8337e-02, -1.5556e-03, -1.2346e-02,\n",
            "          -1.6201e-02, -2.5770e-02,  3.1886e-02, -2.7665e-02,  1.2145e-02,\n",
            "          -2.0130e-02, -5.5624e-03,  7.7615e-03,  6.6390e-03,  4.0268e-03,\n",
            "           2.3957e-02,  2.6191e-02,  1.7006e-02, -1.2039e-03, -1.0228e-02,\n",
            "          -9.1529e-03,  2.9630e-02, -1.6693e-02],\n",
            "         [-1.8803e-02, -1.8889e-02, -2.2747e-03,  7.5891e-04, -1.1837e-02,\n",
            "           5.0612e-02, -2.6708e-02,  1.4043e-02,  1.0245e-02, -1.6317e-02,\n",
            "          -8.6585e-03,  5.5898e-03,  4.5632e-02, -2.2691e-02, -4.8359e-02,\n",
            "          -2.6940e-02, -1.5504e-02,  2.5244e-02,  4.0459e-02, -2.3735e-03,\n",
            "           4.4366e-03,  1.6122e-02,  4.3174e-02, -2.5049e-03, -1.8406e-02,\n",
            "          -9.4648e-03, -1.4095e-02,  1.2289e-02],\n",
            "         [ 2.9494e-02, -9.3838e-03,  1.6978e-02,  1.5675e-02, -2.8938e-02,\n",
            "           1.5926e-02,  2.8997e-03,  3.9403e-02, -5.2901e-03, -2.9715e-02,\n",
            "          -5.6176e-03, -1.5671e-02, -2.7447e-02,  2.5099e-02, -2.3284e-02,\n",
            "           6.1065e-04, -3.0582e-03,  3.4260e-02, -3.7810e-02, -3.8556e-03,\n",
            "          -1.3507e-02,  2.2401e-02,  9.0721e-03,  1.7535e-02, -1.8928e-02,\n",
            "          -2.9818e-04, -2.2413e-02, -1.4800e-02],\n",
            "         [ 1.4971e-02, -2.1651e-03,  1.3432e-02, -7.1827e-03, -1.8053e-02,\n",
            "           7.0462e-03,  1.2043e-02, -2.5222e-03, -6.2521e-03,  1.2085e-02,\n",
            "           1.4793e-02,  5.6208e-03,  1.3018e-02, -1.3417e-03, -9.2355e-03,\n",
            "          -2.0793e-03,  1.6625e-02, -1.6614e-03,  2.3793e-02,  3.3770e-02,\n",
            "           5.1942e-03,  2.8327e-02,  5.0176e-03, -1.8923e-02,  2.1472e-02,\n",
            "           1.3553e-03, -1.5924e-02, -2.1530e-02],\n",
            "         [ 4.4723e-03, -3.2617e-03,  1.1779e-02,  1.4336e-03, -6.6332e-03,\n",
            "           2.8079e-03, -1.9483e-02,  7.9473e-03,  9.3217e-03, -1.4224e-02,\n",
            "           2.2025e-02, -2.2865e-03,  2.2353e-02, -6.7822e-03,  2.1982e-04,\n",
            "          -1.8581e-02,  6.7921e-03,  1.1186e-02, -1.4849e-02, -8.9274e-03,\n",
            "           1.7187e-03,  2.5334e-02,  2.9549e-02, -1.7576e-02,  3.5608e-02,\n",
            "          -2.1675e-02,  3.7775e-02,  1.3059e-02]]], device='cuda:0',\n",
            "       requires_grad=True)\n",
            "tensor(0.0004, device='cuda:0', grad_fn=<MeanBackward0>)\n",
            "tensor(0.0198, device='cuda:0', grad_fn=<StdBackward0>)\n"
          ]
        }
      ],
      "source": [
        "print(attention_model.attention1.attention_heads[0].y_weights)\n",
        "print(attention_model.attention1.attention_heads[0].y_weights.mean())\n",
        "print(attention_model.attention1.attention_heads[0].y_weights.std())"
      ]
    }
  ],
  "metadata": {
    "accelerator": "GPU",
    "colab": {
      "provenance": []
    },
    "gpuClass": "standard",
    "kernelspec": {
      "display_name": "Python 3",
      "name": "python3"
    },
    "language_info": {
      "name": "python"
    }
  },
  "nbformat": 4,
  "nbformat_minor": 0
}